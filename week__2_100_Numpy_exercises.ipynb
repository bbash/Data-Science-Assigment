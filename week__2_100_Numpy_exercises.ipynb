{
  "cells": [
    {
      "cell_type": "markdown",
      "metadata": {
        "id": "view-in-github",
        "colab_type": "text"
      },
      "source": [
        "<a href=\"https://colab.research.google.com/github/bbash/Data-Science-Assigment/blob/main/week__2_100_Numpy_exercises.ipynb\" target=\"_parent\"><img src=\"https://colab.research.google.com/assets/colab-badge.svg\" alt=\"Open In Colab\"/></a>"
      ]
    },
    {
      "cell_type": "markdown",
      "id": "3c1222ff",
      "metadata": {
        "id": "3c1222ff"
      },
      "source": [
        "#### 1. Import the numpy package under the name `np` (★☆☆)"
      ]
    },
    {
      "cell_type": "code",
      "execution_count": 239,
      "id": "f52e6a0b",
      "metadata": {
        "id": "f52e6a0b"
      },
      "outputs": [],
      "source": [
        "import numpy as np"
      ]
    },
    {
      "cell_type": "markdown",
      "id": "9d9f4753",
      "metadata": {
        "id": "9d9f4753"
      },
      "source": [
        "#### 2. Print the numpy version and the configuration (★☆☆)"
      ]
    },
    {
      "cell_type": "code",
      "execution_count": 240,
      "id": "b7fa5fa1",
      "metadata": {
        "id": "b7fa5fa1",
        "colab": {
          "base_uri": "https://localhost:8080/"
        },
        "outputId": "73446de9-f8f4-4cc5-bda9-cee24b67f917"
      },
      "outputs": [
        {
          "output_type": "stream",
          "name": "stdout",
          "text": [
            "1.25.2\n",
            "openblas64__info:\n",
            "    libraries = ['openblas64_', 'openblas64_']\n",
            "    library_dirs = ['/usr/local/lib']\n",
            "    language = c\n",
            "    define_macros = [('HAVE_CBLAS', None), ('BLAS_SYMBOL_SUFFIX', '64_'), ('HAVE_BLAS_ILP64', None)]\n",
            "    runtime_library_dirs = ['/usr/local/lib']\n",
            "blas_ilp64_opt_info:\n",
            "    libraries = ['openblas64_', 'openblas64_']\n",
            "    library_dirs = ['/usr/local/lib']\n",
            "    language = c\n",
            "    define_macros = [('HAVE_CBLAS', None), ('BLAS_SYMBOL_SUFFIX', '64_'), ('HAVE_BLAS_ILP64', None)]\n",
            "    runtime_library_dirs = ['/usr/local/lib']\n",
            "openblas64__lapack_info:\n",
            "    libraries = ['openblas64_', 'openblas64_']\n",
            "    library_dirs = ['/usr/local/lib']\n",
            "    language = c\n",
            "    define_macros = [('HAVE_CBLAS', None), ('BLAS_SYMBOL_SUFFIX', '64_'), ('HAVE_BLAS_ILP64', None), ('HAVE_LAPACKE', None)]\n",
            "    runtime_library_dirs = ['/usr/local/lib']\n",
            "lapack_ilp64_opt_info:\n",
            "    libraries = ['openblas64_', 'openblas64_']\n",
            "    library_dirs = ['/usr/local/lib']\n",
            "    language = c\n",
            "    define_macros = [('HAVE_CBLAS', None), ('BLAS_SYMBOL_SUFFIX', '64_'), ('HAVE_BLAS_ILP64', None), ('HAVE_LAPACKE', None)]\n",
            "    runtime_library_dirs = ['/usr/local/lib']\n",
            "Supported SIMD extensions in this NumPy install:\n",
            "    baseline = SSE,SSE2,SSE3\n",
            "    found = SSSE3,SSE41,POPCNT,SSE42,AVX,F16C,FMA3,AVX2\n",
            "    not found = AVX512F,AVX512CD,AVX512_KNL,AVX512_KNM,AVX512_SKX,AVX512_CLX,AVX512_CNL,AVX512_ICL\n"
          ]
        }
      ],
      "source": [
        "print(np.__version__)\n",
        "np.show_config()"
      ]
    },
    {
      "cell_type": "markdown",
      "id": "3e4c23c6",
      "metadata": {
        "id": "3e4c23c6"
      },
      "source": [
        "#### 3. Create a null vector of size 10 (★☆☆)"
      ]
    },
    {
      "cell_type": "code",
      "execution_count": 241,
      "id": "083c5c46",
      "metadata": {
        "id": "083c5c46",
        "colab": {
          "base_uri": "https://localhost:8080/"
        },
        "outputId": "6523fb92-5970-4bed-86b6-f37ff2f3bb78"
      },
      "outputs": [
        {
          "output_type": "stream",
          "name": "stdout",
          "text": [
            "[0. 0. 0. 0. 0. 0. 0. 0. 0. 0.]\n"
          ]
        }
      ],
      "source": [
        "Z = np.zeros(10)\n",
        "print(Z)"
      ]
    },
    {
      "cell_type": "markdown",
      "id": "c38bbe82",
      "metadata": {
        "id": "c38bbe82"
      },
      "source": [
        "#### 4. How to find the memory size of any array (★☆☆)"
      ]
    },
    {
      "cell_type": "code",
      "execution_count": 242,
      "id": "02b04021",
      "metadata": {
        "id": "02b04021",
        "colab": {
          "base_uri": "https://localhost:8080/"
        },
        "outputId": "b14e66a2-b7e1-4d6f-81e0-8edab0ca6285"
      },
      "outputs": [
        {
          "output_type": "stream",
          "name": "stdout",
          "text": [
            "800 bytes\n"
          ]
        }
      ],
      "source": [
        "item = np.zeros((10,10))\n",
        "print(\"%d bytes\" % (item.size * item.itemsize))"
      ]
    },
    {
      "cell_type": "markdown",
      "id": "e0c739c6",
      "metadata": {
        "id": "e0c739c6"
      },
      "source": [
        "#### 6. Create a null vector of size 10 but the fifth value which is 1 (★☆☆)"
      ]
    },
    {
      "cell_type": "code",
      "execution_count": 243,
      "id": "bcceacf7",
      "metadata": {
        "id": "bcceacf7",
        "colab": {
          "base_uri": "https://localhost:8080/"
        },
        "outputId": "6f66482a-709e-40f1-cdb5-fbdb85ece370"
      },
      "outputs": [
        {
          "output_type": "stream",
          "name": "stdout",
          "text": [
            "[0. 0. 0. 0. 1. 0. 0. 0. 0. 0.]\n"
          ]
        }
      ],
      "source": [
        "item = np.zeros(10)\n",
        "item[4] = 1\n",
        "print(item)"
      ]
    },
    {
      "cell_type": "markdown",
      "id": "fbebedab",
      "metadata": {
        "id": "fbebedab"
      },
      "source": [
        "#### 7. Create a vector with values ranging from 10 to 49 (★☆☆)"
      ]
    },
    {
      "cell_type": "code",
      "execution_count": 244,
      "id": "3d117d54",
      "metadata": {
        "id": "3d117d54",
        "colab": {
          "base_uri": "https://localhost:8080/"
        },
        "outputId": "e028e059-e0f0-4adf-9ec9-7a823af3c7c3"
      },
      "outputs": [
        {
          "output_type": "stream",
          "name": "stdout",
          "text": [
            "[10 11 12 13 14 15 16 17 18 19 20 21 22 23 24 25 26 27 28 29 30 31 32 33\n",
            " 34 35 36 37 38 39 40 41 42 43 44 45 46 47 48 49]\n"
          ]
        }
      ],
      "source": [
        "item = np.arange(10,50)\n",
        "print(item)"
      ]
    },
    {
      "cell_type": "markdown",
      "id": "ad0bff02",
      "metadata": {
        "id": "ad0bff02"
      },
      "source": [
        "#### 8. Reverse a vector (first element becomes last) (★☆☆)"
      ]
    },
    {
      "cell_type": "code",
      "execution_count": 245,
      "id": "22d23470",
      "metadata": {
        "id": "22d23470",
        "colab": {
          "base_uri": "https://localhost:8080/"
        },
        "outputId": "ecb9151f-e6dc-42e2-f0a1-c92110fe58bb"
      },
      "outputs": [
        {
          "output_type": "stream",
          "name": "stdout",
          "text": [
            "[49 48 47 46 45 44 43 42 41 40 39 38 37 36 35 34 33 32 31 30 29 28 27 26\n",
            " 25 24 23 22 21 20 19 18 17 16 15 14 13 12 11 10]\n"
          ]
        }
      ],
      "source": [
        "item = item[::-1]\n",
        "print(item)"
      ]
    },
    {
      "cell_type": "markdown",
      "id": "9f59d7e1",
      "metadata": {
        "id": "9f59d7e1"
      },
      "source": [
        "#### 9. Create a 3x3 matrix with values ranging from 0 to 8 (★☆☆)"
      ]
    },
    {
      "cell_type": "code",
      "execution_count": 246,
      "id": "7449e82d",
      "metadata": {
        "id": "7449e82d",
        "colab": {
          "base_uri": "https://localhost:8080/"
        },
        "outputId": "a9cc9ebf-1a7d-4b68-83e4-4df9a05d0394"
      },
      "outputs": [
        {
          "output_type": "stream",
          "name": "stdout",
          "text": [
            "[[0 1 2]\n",
            " [3 4 5]\n",
            " [6 7 8]]\n"
          ]
        }
      ],
      "source": [
        "item = np.arange(9).reshape(3, 3)\n",
        "print(item)"
      ]
    },
    {
      "cell_type": "markdown",
      "id": "f374c4cf",
      "metadata": {
        "id": "f374c4cf"
      },
      "source": [
        "#### 10. Find indices of non-zero elements from [1,2,0,0,4,0] (★☆☆)"
      ]
    },
    {
      "cell_type": "code",
      "execution_count": 247,
      "id": "1a84bed8",
      "metadata": {
        "id": "1a84bed8",
        "colab": {
          "base_uri": "https://localhost:8080/"
        },
        "outputId": "58aa01fb-5e99-4302-cc9f-db41d53bcb6f"
      },
      "outputs": [
        {
          "output_type": "stream",
          "name": "stdout",
          "text": [
            "(array([0, 1, 4]),)\n"
          ]
        }
      ],
      "source": [
        "nz = np.nonzero([1,2,0,0,4,0])\n",
        "print(nz)"
      ]
    },
    {
      "cell_type": "markdown",
      "id": "9c4707f5",
      "metadata": {
        "id": "9c4707f5"
      },
      "source": [
        "#### 11. Create a 3x3 identity matrix (★☆☆)"
      ]
    },
    {
      "cell_type": "code",
      "execution_count": 248,
      "id": "29dc1fd3",
      "metadata": {
        "id": "29dc1fd3",
        "colab": {
          "base_uri": "https://localhost:8080/"
        },
        "outputId": "dd51c414-43b7-47d2-9379-f536a4296b7f"
      },
      "outputs": [
        {
          "output_type": "stream",
          "name": "stdout",
          "text": [
            "[[1. 0. 0.]\n",
            " [0. 1. 0.]\n",
            " [0. 0. 1.]]\n"
          ]
        }
      ],
      "source": [
        "identi = np.eye(3)\n",
        "print(identi)"
      ]
    },
    {
      "cell_type": "markdown",
      "id": "3bac294a",
      "metadata": {
        "id": "3bac294a"
      },
      "source": [
        "#### 12. Create a 3x3x3 array with random values (★☆☆)"
      ]
    },
    {
      "cell_type": "code",
      "execution_count": 249,
      "id": "eadfae67",
      "metadata": {
        "id": "eadfae67",
        "colab": {
          "base_uri": "https://localhost:8080/"
        },
        "outputId": "802b3a2b-72ca-4de2-ff42-08a86b773b03"
      },
      "outputs": [
        {
          "output_type": "stream",
          "name": "stdout",
          "text": [
            "[[[0.76891095 0.72912517 0.76794706]\n",
            "  [0.20238095 0.19844386 0.92631472]\n",
            "  [0.30574422 0.02279532 0.675877  ]]\n",
            "\n",
            " [[0.22422012 0.3010082  0.6664363 ]\n",
            "  [0.31641361 0.2721113  0.12676615]\n",
            "  [0.64973461 0.52591961 0.26267901]]\n",
            "\n",
            " [[0.76740699 0.18459887 0.84524069]\n",
            "  [0.59786612 0.77369511 0.5322142 ]\n",
            "  [0.04387722 0.35280478 0.751952  ]]]\n"
          ]
        }
      ],
      "source": [
        "item = np.random.random((3,3,3))\n",
        "print(item)"
      ]
    },
    {
      "cell_type": "markdown",
      "id": "466c2989",
      "metadata": {
        "id": "466c2989"
      },
      "source": [
        "#### 13. Create a 10x10 array with random values and find the minimum and maximum values (★☆☆)"
      ]
    },
    {
      "cell_type": "code",
      "execution_count": 250,
      "id": "9a74dbfc",
      "metadata": {
        "id": "9a74dbfc",
        "colab": {
          "base_uri": "https://localhost:8080/"
        },
        "outputId": "777593bd-ad3a-4f65-e86b-a1f5e7a709a5"
      },
      "outputs": [
        {
          "output_type": "stream",
          "name": "stdout",
          "text": [
            "The max is 0.9986\n",
            "The min is 0.0097\n"
          ]
        }
      ],
      "source": [
        "item = np.random.random((10,10))\n",
        "print(f'The max is {item.max():.4f}')\n",
        "print(f'The min is {item.min():.4f}')\n"
      ]
    },
    {
      "cell_type": "markdown",
      "id": "53a8edb2",
      "metadata": {
        "id": "53a8edb2"
      },
      "source": [
        "#### 14. Create a random vector of size 30 and find the mean value (★☆☆)"
      ]
    },
    {
      "cell_type": "code",
      "execution_count": 251,
      "id": "6691530b",
      "metadata": {
        "id": "6691530b",
        "colab": {
          "base_uri": "https://localhost:8080/"
        },
        "outputId": "cfbed0f8-a982-488e-f094-f4bc3a2c6c92"
      },
      "outputs": [
        {
          "output_type": "stream",
          "name": "stdout",
          "text": [
            "0.466549807208427\n"
          ]
        }
      ],
      "source": [
        "item = np.random.random(30).mean()\n",
        "print(item)"
      ]
    },
    {
      "cell_type": "markdown",
      "id": "cbaad31c",
      "metadata": {
        "id": "cbaad31c"
      },
      "source": [
        "#### 15. Create a 2d array with 1 on the border and 0 inside (★☆☆)"
      ]
    },
    {
      "cell_type": "code",
      "execution_count": 252,
      "id": "ad8308e3",
      "metadata": {
        "id": "ad8308e3",
        "colab": {
          "base_uri": "https://localhost:8080/"
        },
        "outputId": "dff26249-4a9d-4da1-d0ab-dedeb6eacfa7"
      },
      "outputs": [
        {
          "output_type": "execute_result",
          "data": {
            "text/plain": [
              "array([[1., 1., 1., 1., 1., 1., 1., 1., 1., 1.],\n",
              "       [1., 0., 0., 0., 0., 0., 0., 0., 0., 1.],\n",
              "       [1., 0., 0., 0., 0., 0., 0., 0., 0., 1.],\n",
              "       [1., 0., 0., 0., 0., 0., 0., 0., 0., 1.],\n",
              "       [1., 0., 0., 0., 0., 0., 0., 0., 0., 1.],\n",
              "       [1., 0., 0., 0., 0., 0., 0., 0., 0., 1.],\n",
              "       [1., 0., 0., 0., 0., 0., 0., 0., 0., 1.],\n",
              "       [1., 0., 0., 0., 0., 0., 0., 0., 0., 1.],\n",
              "       [1., 0., 0., 0., 0., 0., 0., 0., 0., 1.],\n",
              "       [1., 1., 1., 1., 1., 1., 1., 1., 1., 1.]])"
            ]
          },
          "metadata": {},
          "execution_count": 252
        }
      ],
      "source": [
        "item = np.ones((10,10))\n",
        "item[1:-1,1:-1] = 0\n",
        "item"
      ]
    },
    {
      "cell_type": "markdown",
      "id": "c5ecc267",
      "metadata": {
        "id": "c5ecc267"
      },
      "source": [
        "#### 16. How to add a border (filled with 0's) around an existing array? (★☆☆)"
      ]
    },
    {
      "cell_type": "code",
      "execution_count": 253,
      "id": "9d5c78c4",
      "metadata": {
        "id": "9d5c78c4",
        "colab": {
          "base_uri": "https://localhost:8080/"
        },
        "outputId": "f028cfa5-116c-4b2e-cc01-b9316c56d1ce"
      },
      "outputs": [
        {
          "output_type": "stream",
          "name": "stdout",
          "text": [
            "[[0. 0. 0. 0. 0.]\n",
            " [0. 1. 1. 1. 0.]\n",
            " [0. 1. 1. 1. 0.]\n",
            " [0. 1. 1. 1. 0.]\n",
            " [0. 0. 0. 0. 0.]]\n"
          ]
        }
      ],
      "source": [
        "item = np.ones((5,5))\n",
        "\n",
        "# Using indexing\n",
        "item[:, [0, -1]] = 0\n",
        "item[[0, -1], :] = 0\n",
        "print(item)"
      ]
    },
    {
      "cell_type": "markdown",
      "id": "ef909b72",
      "metadata": {
        "id": "ef909b72"
      },
      "source": [
        "#### 17. What is the result of the following expression? (★☆☆)\n",
        "```python\n",
        "0 * np.nan\n",
        "np.nan == np.nan\n",
        "np.inf > np.nan\n",
        "np.nan - np.nan\n",
        "np.nan in set([np.nan])\n",
        "0.3 == 3 * 0.1\n",
        "```"
      ]
    },
    {
      "cell_type": "code",
      "execution_count": 254,
      "id": "3b4985f2",
      "metadata": {
        "id": "3b4985f2",
        "colab": {
          "base_uri": "https://localhost:8080/"
        },
        "outputId": "e490bd33-208a-49b4-ec36-605e9f1c4c5a"
      },
      "outputs": [
        {
          "output_type": "stream",
          "name": "stdout",
          "text": [
            "nan\n",
            "False\n",
            "False\n",
            "nan\n",
            "True\n",
            "False\n"
          ]
        }
      ],
      "source": [
        "print(0 * np.nan)\n",
        "print(np.nan == np.nan)\n",
        "print(np.inf > np.nan)\n",
        "print(np.nan - np.nan)\n",
        "print(np.nan in set([np.nan]))\n",
        "print(0.3 == 3 * 0.1)"
      ]
    },
    {
      "cell_type": "markdown",
      "id": "502738ac",
      "metadata": {
        "id": "502738ac"
      },
      "source": [
        "#### 18. Create a 5x5 matrix with values 1,2,3,4 just below the diagonal (★☆☆)"
      ]
    },
    {
      "cell_type": "code",
      "execution_count": 255,
      "id": "faed6e2b",
      "metadata": {
        "id": "faed6e2b",
        "colab": {
          "base_uri": "https://localhost:8080/"
        },
        "outputId": "28620c21-b2a3-43a8-9d9f-9e4571584b5b"
      },
      "outputs": [
        {
          "output_type": "execute_result",
          "data": {
            "text/plain": [
              "array([[0, 0, 0, 0, 0],\n",
              "       [1, 0, 0, 0, 0],\n",
              "       [0, 2, 0, 0, 0],\n",
              "       [0, 0, 3, 0, 0],\n",
              "       [0, 0, 0, 4, 0]])"
            ]
          },
          "metadata": {},
          "execution_count": 255
        }
      ],
      "source": [
        "item = np.diag(1+np.arange(4),k=-1)\n",
        "item"
      ]
    },
    {
      "cell_type": "markdown",
      "id": "a65da660",
      "metadata": {
        "id": "a65da660"
      },
      "source": [
        "#### 19. Create a 8x8 matrix and fill it with a checkerboard pattern (★☆☆)"
      ]
    },
    {
      "cell_type": "markdown",
      "id": "9f7f9c49",
      "metadata": {
        "id": "9f7f9c49"
      },
      "source": [
        "#### 20. Consider a (6,7,8) shape array, what is the index (x,y,z) of the 100th element? (★☆☆)"
      ]
    },
    {
      "cell_type": "code",
      "execution_count": 256,
      "id": "3782b5a9",
      "metadata": {
        "id": "3782b5a9",
        "colab": {
          "base_uri": "https://localhost:8080/"
        },
        "outputId": "a100573c-631d-48d1-8905-6a5db3ac0941"
      },
      "outputs": [
        {
          "output_type": "stream",
          "name": "stdout",
          "text": [
            "(1, 5, 3)\n"
          ]
        }
      ],
      "source": [
        "shape = (6, 7, 8)\n",
        "print(np.unravel_index(99, shape))"
      ]
    },
    {
      "cell_type": "markdown",
      "id": "66bfda35",
      "metadata": {
        "id": "66bfda35"
      },
      "source": [
        "#### 21. Create a checkerboard 8x8 matrix using the tile function (★☆☆)"
      ]
    },
    {
      "cell_type": "code",
      "execution_count": 257,
      "id": "4c07477c",
      "metadata": {
        "id": "4c07477c",
        "colab": {
          "base_uri": "https://localhost:8080/"
        },
        "outputId": "7fc31047-9f47-4cb1-f690-cb823fede34e"
      },
      "outputs": [
        {
          "output_type": "stream",
          "name": "stdout",
          "text": [
            "[[0 1 0 1 0 1 0 1]\n",
            " [1 0 1 0 1 0 1 0]\n",
            " [0 1 0 1 0 1 0 1]\n",
            " [1 0 1 0 1 0 1 0]\n",
            " [0 1 0 1 0 1 0 1]\n",
            " [1 0 1 0 1 0 1 0]\n",
            " [0 1 0 1 0 1 0 1]\n",
            " [1 0 1 0 1 0 1 0]]\n"
          ]
        }
      ],
      "source": [
        "# Define a single tile of the checkerboard\n",
        "tile = np.array([[0, 1], [1, 0]])\n",
        "\n",
        "# Use tile function to create the checkerboard matrix\n",
        "checkerboard = np.tile(tile, (4, 4))\n",
        "\n",
        "print(checkerboard)"
      ]
    },
    {
      "cell_type": "markdown",
      "id": "d5bcfc08",
      "metadata": {
        "id": "d5bcfc08"
      },
      "source": [
        "#### 22. Normalize a 5x5 random matrix (★☆☆)"
      ]
    },
    {
      "cell_type": "code",
      "execution_count": 258,
      "id": "cea6c993",
      "metadata": {
        "id": "cea6c993",
        "colab": {
          "base_uri": "https://localhost:8080/"
        },
        "outputId": "603db3eb-10fe-46fb-c862-c0481e82111b"
      },
      "outputs": [
        {
          "output_type": "execute_result",
          "data": {
            "text/plain": [
              "array([[0.70289377, 0.54504641, 0.51034128, 0.76945289, 1.        ],\n",
              "       [0.32474973, 0.64474254, 0.14250395, 0.46327824, 0.61216015],\n",
              "       [0.85530449, 0.08967405, 0.92985388, 0.37644125, 0.7853963 ],\n",
              "       [0.26925795, 0.82621094, 0.87753389, 0.73954225, 0.21603463],\n",
              "       [0.9083613 , 0.36416762, 0.72022882, 0.30005206, 0.36459115]])"
            ]
          },
          "metadata": {},
          "execution_count": 258
        }
      ],
      "source": [
        "matrix = np.random.random((5,5))\n",
        "normalized_matrix = matrix / np.max(np.abs(matrix))\n",
        "normalized_matrix"
      ]
    },
    {
      "cell_type": "markdown",
      "id": "f9a0911e",
      "metadata": {
        "id": "f9a0911e"
      },
      "source": [
        "#### 23. Create a custom dtype that describes a color as four unsigned bytes (RGBA) (★☆☆)"
      ]
    },
    {
      "cell_type": "code",
      "execution_count": 259,
      "id": "d165044b",
      "metadata": {
        "id": "d165044b",
        "colab": {
          "base_uri": "https://localhost:8080/"
        },
        "outputId": "86b2f9e4-d342-4738-a3b5-861b0614939d"
      },
      "outputs": [
        {
          "output_type": "stream",
          "name": "stdout",
          "text": [
            "(255, 0, 0, 255)\n"
          ]
        }
      ],
      "source": [
        "# Define custom dtype for RGBA color\n",
        "color_dtype = np.dtype([('R', np.uint8),   # Red channel\n",
        "                        ('G', np.uint8),   # Green channel\n",
        "                        ('B', np.uint8),   # Blue channel\n",
        "                        ('A', np.uint8)])  # Alpha channel\n",
        "\n",
        "# Example usage:\n",
        "color = np.array((255, 0, 0, 255), dtype=color_dtype)  # Red color with full opacity\n",
        "print(color)"
      ]
    },
    {
      "cell_type": "markdown",
      "id": "654805b1",
      "metadata": {
        "id": "654805b1"
      },
      "source": [
        "#### 24. Multiply a 5x3 matrix by a 3x2 matrix (real matrix product) (★☆☆)"
      ]
    },
    {
      "cell_type": "code",
      "execution_count": 260,
      "id": "6a42619f",
      "metadata": {
        "id": "6a42619f",
        "colab": {
          "base_uri": "https://localhost:8080/"
        },
        "outputId": "2587ff7a-bd24-4fb6-d0bc-cf7a1902d803"
      },
      "outputs": [
        {
          "output_type": "stream",
          "name": "stdout",
          "text": [
            "[[1.74868951 1.9501608 ]\n",
            " [0.33693111 0.36156627]\n",
            " [0.38171635 0.45889411]\n",
            " [0.83257876 1.00993793]\n",
            " [1.46315041 1.79429945]]\n"
          ]
        }
      ],
      "source": [
        "matrix1 = np.random.random((5, 3))\n",
        "\n",
        "# Create a 3x2 matrix\n",
        "matrix2 = np.random.random((3, 2))\n",
        "\n",
        "# Perform matrix multiplication\n",
        "result = matrix1 @ matrix2\n",
        "\n",
        "# Alternatively, you can use np.dot(matrix1, matrix2)\n",
        "# result = np.dot(matrix1, matrix2)\n",
        "\n",
        "print(result)"
      ]
    },
    {
      "cell_type": "markdown",
      "id": "994c25df",
      "metadata": {
        "id": "994c25df"
      },
      "source": [
        "#### 25. Given a 1D array, negate all elements which are between 3 and 8, in place. (★☆☆)"
      ]
    },
    {
      "cell_type": "code",
      "execution_count": 261,
      "id": "e4b39c03",
      "metadata": {
        "id": "e4b39c03",
        "colab": {
          "base_uri": "https://localhost:8080/"
        },
        "outputId": "f4b7e926-cdbe-4c5a-d125-c56fb6834007"
      },
      "outputs": [
        {
          "output_type": "stream",
          "name": "stdout",
          "text": [
            "[ 1 -4 -6  9  3 -7  2 -5  8]\n"
          ]
        }
      ],
      "source": [
        "arr = np.array([1, 4, 6, 9, 3, 7, 2, 5, 8])\n",
        "\n",
        "arr[(arr > 3) & (arr < 8)] *= -1\n",
        "\n",
        "print(arr)"
      ]
    },
    {
      "cell_type": "markdown",
      "id": "b7d15d1a",
      "metadata": {
        "id": "b7d15d1a"
      },
      "source": [
        "#### 26. What is the output of the following script? (★☆☆)\n",
        "```python\n",
        "# Author: Jake VanderPlas\n",
        "\n",
        "print(sum(range(5),-1))\n",
        "from numpy import *\n",
        "print(sum(range(5),-1))\n",
        "```"
      ]
    },
    {
      "cell_type": "code",
      "execution_count": 262,
      "id": "4c95bc3f",
      "metadata": {
        "id": "4c95bc3f",
        "colab": {
          "base_uri": "https://localhost:8080/"
        },
        "outputId": "46f6bb82-2a58-4d4d-c72c-2807f945b655"
      },
      "outputs": [
        {
          "output_type": "stream",
          "name": "stdout",
          "text": [
            "10\n",
            "10\n"
          ]
        }
      ],
      "source": [
        "print(sum(range(5),-1))\n",
        "from numpy import *\n",
        "print(sum(range(5),-1))"
      ]
    },
    {
      "cell_type": "markdown",
      "id": "a34f0d08",
      "metadata": {
        "id": "a34f0d08"
      },
      "source": [
        "#### 27. Consider an integer vector Z, which of these expressions are legal? (★☆☆)\n",
        "```python\n",
        "Z**Z\n",
        "2 << Z >> 2\n",
        "Z <- Z\n",
        "1j*Z\n",
        "Z/1/1\n",
        "Z<Z>Z\n",
        "```"
      ]
    },
    {
      "cell_type": "markdown",
      "id": "c34e94bf",
      "metadata": {
        "id": "c34e94bf"
      },
      "source": [
        "#### 28. What are the result of the following expressions? (★☆☆)\n",
        "```python\n",
        "np.array(0) / np.array(0)\n",
        "np.array(0) // np.array(0)\n",
        "np.array([np.nan]).astype(int).astype(float)\n",
        "```"
      ]
    },
    {
      "cell_type": "code",
      "execution_count": 263,
      "id": "56663562",
      "metadata": {
        "id": "56663562",
        "colab": {
          "base_uri": "https://localhost:8080/"
        },
        "outputId": "5733964f-51ca-4dd8-8b17-73f0133e0068"
      },
      "outputs": [
        {
          "output_type": "stream",
          "name": "stdout",
          "text": [
            "nan\n",
            "0\n",
            "[-9.22337204e+18]\n"
          ]
        }
      ],
      "source": [
        "print(np.array(0) / np.array(0))\n",
        "print(np.array(0) // np.array(0))\n",
        "print(np.array([np.nan]).astype(int).astype(float))"
      ]
    },
    {
      "cell_type": "markdown",
      "id": "546f5e7b",
      "metadata": {
        "id": "546f5e7b"
      },
      "source": [
        "#### 29. How to round away from zero a float array ? (★☆☆)"
      ]
    },
    {
      "cell_type": "code",
      "execution_count": 264,
      "id": "f725a6d2",
      "metadata": {
        "id": "f725a6d2",
        "colab": {
          "base_uri": "https://localhost:8080/"
        },
        "outputId": "27b64704-fa53-4a44-84d9-58f25922b76c"
      },
      "outputs": [
        {
          "output_type": "stream",
          "name": "stdout",
          "text": [
            "[-4. -3. -2.  0.  2.  3.  4.]\n"
          ]
        }
      ],
      "source": [
        "float_array = np.array([-3.5, -2.7, -1.2, 0.0, 1.2, 2.7, 3.5])\n",
        "\n",
        "rounded_array = np.where(float_array >= 0, np.ceil(float_array), np.floor(float_array))\n",
        "\n",
        "print(rounded_array)"
      ]
    },
    {
      "cell_type": "markdown",
      "id": "eadca856",
      "metadata": {
        "id": "eadca856"
      },
      "source": [
        "#### 30. How to find common values between two arrays? (★☆☆)"
      ]
    },
    {
      "cell_type": "code",
      "execution_count": 265,
      "id": "e0270b5b",
      "metadata": {
        "id": "e0270b5b",
        "colab": {
          "base_uri": "https://localhost:8080/"
        },
        "outputId": "9b537580-e59d-4a40-dc32-705a2c63ee87"
      },
      "outputs": [
        {
          "output_type": "stream",
          "name": "stdout",
          "text": [
            "[3 4 5]\n"
          ]
        }
      ],
      "source": [
        "array1 = np.array([1, 2, 3, 4, 5])\n",
        "array2 = np.array([3, 4, 5, 6, 7])\n",
        "\n",
        "common_values = np.intersect1d(array1, array2)\n",
        "\n",
        "print(common_values)"
      ]
    },
    {
      "cell_type": "markdown",
      "id": "ca16ca22",
      "metadata": {
        "id": "ca16ca22"
      },
      "source": [
        "#### 31. How to ignore all numpy warnings (not recommended)? (★☆☆)"
      ]
    },
    {
      "cell_type": "code",
      "execution_count": 266,
      "id": "7d7208ef",
      "metadata": {
        "id": "7d7208ef",
        "colab": {
          "base_uri": "https://localhost:8080/"
        },
        "outputId": "4b9367d4-b399-46ac-d4a2-f3c60de77ecc"
      },
      "outputs": [
        {
          "output_type": "execute_result",
          "data": {
            "text/plain": [
              "{'divide': 'ignore', 'over': 'ignore', 'under': 'ignore', 'invalid': 'ignore'}"
            ]
          },
          "metadata": {},
          "execution_count": 266
        }
      ],
      "source": [
        "# Ignore all NumPy warnings\n",
        "np.seterr(all='ignore')"
      ]
    },
    {
      "cell_type": "markdown",
      "id": "c7871d0d",
      "metadata": {
        "id": "c7871d0d"
      },
      "source": [
        "#### 32. Is the following expressions true? (★☆☆)\n",
        "```python\n",
        "np.sqrt(-1) == np.emath.sqrt(-1)\n",
        "```"
      ]
    },
    {
      "cell_type": "code",
      "execution_count": 267,
      "id": "acc3701a",
      "metadata": {
        "id": "acc3701a",
        "colab": {
          "base_uri": "https://localhost:8080/"
        },
        "outputId": "2665dbaa-2c47-4505-da7a-22199001a203"
      },
      "outputs": [
        {
          "output_type": "stream",
          "name": "stdout",
          "text": [
            "False\n"
          ]
        }
      ],
      "source": [
        "print(np.sqrt(-1) == np.emath.sqrt(-1))"
      ]
    },
    {
      "cell_type": "markdown",
      "id": "e0433e30",
      "metadata": {
        "id": "e0433e30"
      },
      "source": [
        "#### 33. How to get the dates of yesterday, today and tomorrow? (★☆☆)"
      ]
    },
    {
      "cell_type": "code",
      "execution_count": 268,
      "id": "9c4d2152",
      "metadata": {
        "id": "9c4d2152"
      },
      "outputs": [],
      "source": [
        "yesterday = np.datetime64('today') - np.timedelta64(1)\n",
        "today     = np.datetime64('today')\n",
        "tomorrow  = np.datetime64('today') + np.timedelta64(1)"
      ]
    },
    {
      "cell_type": "markdown",
      "id": "9f52a2ef",
      "metadata": {
        "id": "9f52a2ef"
      },
      "source": [
        "#### 34. How to get all the dates corresponding to the month of July 2016? (★★☆)"
      ]
    },
    {
      "cell_type": "code",
      "execution_count": 269,
      "id": "d6c34dec",
      "metadata": {
        "id": "d6c34dec",
        "colab": {
          "base_uri": "https://localhost:8080/"
        },
        "outputId": "614bd4a4-5ef8-48a6-8221-ef01e0c88af2"
      },
      "outputs": [
        {
          "output_type": "stream",
          "name": "stdout",
          "text": [
            "['2016-07-01' '2016-07-02' '2016-07-03' '2016-07-04' '2016-07-05'\n",
            " '2016-07-06' '2016-07-07' '2016-07-08' '2016-07-09' '2016-07-10'\n",
            " '2016-07-11' '2016-07-12' '2016-07-13' '2016-07-14' '2016-07-15'\n",
            " '2016-07-16' '2016-07-17' '2016-07-18' '2016-07-19' '2016-07-20'\n",
            " '2016-07-21' '2016-07-22' '2016-07-23' '2016-07-24' '2016-07-25'\n",
            " '2016-07-26' '2016-07-27' '2016-07-28' '2016-07-29' '2016-07-30'\n",
            " '2016-07-31']\n"
          ]
        }
      ],
      "source": [
        "Z = np.arange('2016-07', '2016-08', dtype='datetime64[D]')\n",
        "print(Z)"
      ]
    },
    {
      "cell_type": "markdown",
      "id": "4a64e059",
      "metadata": {
        "id": "4a64e059"
      },
      "source": [
        "#### 35. How to compute ((A+B)*(-A/2)) in place (without copy)? (★★☆)"
      ]
    },
    {
      "cell_type": "code",
      "execution_count": 270,
      "id": "49267f60",
      "metadata": {
        "id": "49267f60",
        "colab": {
          "base_uri": "https://localhost:8080/"
        },
        "outputId": "2e7ad761-5866-4bb5-dbd8-0bb2e57704a3"
      },
      "outputs": [
        {
          "output_type": "stream",
          "name": "stdout",
          "text": [
            "[-10.  -17.5 -27. ]\n"
          ]
        }
      ],
      "source": [
        "A = np.array([1, 2, 3], dtype=float)\n",
        "B = np.array([4, 5, 6])\n",
        "\n",
        "np.add(A, B, out=A)\n",
        "np.divide(-A, 2, out=A, casting='unsafe')  # Specify casting='unsafe' to allow conversion of float to int\n",
        "np.multiply(A, B, out=A)\n",
        "\n",
        "print(A)"
      ]
    },
    {
      "cell_type": "markdown",
      "id": "8a98c2a8",
      "metadata": {
        "id": "8a98c2a8"
      },
      "source": [
        "#### 36. Extract the integer part of a random array of positive numbers using 4 different methods (★★☆)"
      ]
    },
    {
      "cell_type": "code",
      "execution_count": 271,
      "id": "368130b3",
      "metadata": {
        "id": "368130b3",
        "colab": {
          "base_uri": "https://localhost:8080/"
        },
        "outputId": "e5a67ca3-8fdf-4b2a-b90b-cc7f6ca44612"
      },
      "outputs": [
        {
          "output_type": "stream",
          "name": "stdout",
          "text": [
            "[0. 0. 3. 4. 3. 3. 0. 1. 2. 2.]\n",
            "[0. 0. 3. 4. 3. 3. 0. 1. 2. 2.]\n",
            "[0. 0. 3. 4. 3. 3. 0. 1. 2. 2.]\n",
            "[0 0 3 4 3 3 0 1 2 2]\n",
            "[0. 0. 3. 4. 3. 3. 0. 1. 2. 2.]\n"
          ]
        }
      ],
      "source": [
        "Z = np.random.uniform(0,10,10)\n",
        "\n",
        "print(Z - Z%1)\n",
        "print(Z // 1)\n",
        "print(np.floor(Z))\n",
        "print(Z.astype(int))\n",
        "print(np.trunc(Z))"
      ]
    },
    {
      "cell_type": "markdown",
      "id": "5a2e3d85",
      "metadata": {
        "id": "5a2e3d85"
      },
      "source": [
        "#### 37. Create a 5x5 matrix with row values ranging from 0 to 4 (★★☆)"
      ]
    },
    {
      "cell_type": "code",
      "execution_count": 272,
      "id": "1d974e8f",
      "metadata": {
        "id": "1d974e8f",
        "colab": {
          "base_uri": "https://localhost:8080/"
        },
        "outputId": "da2b3b24-ecd9-44a1-f018-2bb08f880b07"
      },
      "outputs": [
        {
          "output_type": "stream",
          "name": "stdout",
          "text": [
            "[[0. 1. 2. 3. 4.]\n",
            " [0. 1. 2. 3. 4.]\n",
            " [0. 1. 2. 3. 4.]\n",
            " [0. 1. 2. 3. 4.]\n",
            " [0. 1. 2. 3. 4.]]\n"
          ]
        }
      ],
      "source": [
        "matrix = np.zeros((5, 5))\n",
        "matrix += np.arange(5)\n",
        "\n",
        "print(matrix)"
      ]
    },
    {
      "cell_type": "markdown",
      "id": "9720e2d5",
      "metadata": {
        "id": "9720e2d5"
      },
      "source": [
        "#### 38. Consider a generator function that generates 10 integers and use it to build an array (★☆☆)"
      ]
    },
    {
      "cell_type": "code",
      "execution_count": 273,
      "id": "e5dd8fc9",
      "metadata": {
        "id": "e5dd8fc9",
        "colab": {
          "base_uri": "https://localhost:8080/"
        },
        "outputId": "1e857685-0ea4-493d-ef3e-0aab28ee1566"
      },
      "outputs": [
        {
          "output_type": "stream",
          "name": "stdout",
          "text": [
            "[0 1 2 3 4 5 6 7 8 9]\n"
          ]
        }
      ],
      "source": [
        "\n",
        "def integer_generator():\n",
        "    for i in range(10):\n",
        "        yield i\n",
        "\n",
        "array = np.fromiter(integer_generator(), dtype=int)\n",
        "\n",
        "print(array)"
      ]
    },
    {
      "cell_type": "markdown",
      "id": "c6f2c912",
      "metadata": {
        "id": "c6f2c912"
      },
      "source": [
        "#### 39. Create a vector of size 10 with values ranging from 0 to 1, both excluded (★★☆)"
      ]
    },
    {
      "cell_type": "code",
      "source": [
        "\n",
        "vector = np.linspace(0, 1, 12)[1:-1]\n",
        "\n",
        "print(vector)"
      ],
      "metadata": {
        "colab": {
          "base_uri": "https://localhost:8080/"
        },
        "id": "WSlkvcTDpXoR",
        "outputId": "35f52ea0-1669-46e3-f83d-26ebf8288d6e"
      },
      "id": "WSlkvcTDpXoR",
      "execution_count": 274,
      "outputs": [
        {
          "output_type": "stream",
          "name": "stdout",
          "text": [
            "[0.09090909 0.18181818 0.27272727 0.36363636 0.45454545 0.54545455\n",
            " 0.63636364 0.72727273 0.81818182 0.90909091]\n"
          ]
        }
      ]
    },
    {
      "cell_type": "markdown",
      "id": "a36d6ee4",
      "metadata": {
        "id": "a36d6ee4"
      },
      "source": [
        "#### 40. Create a random vector of size 10 and sort it (★★☆)"
      ]
    },
    {
      "cell_type": "code",
      "execution_count": 275,
      "id": "e589d216",
      "metadata": {
        "id": "e589d216",
        "colab": {
          "base_uri": "https://localhost:8080/"
        },
        "outputId": "a84cdc9e-d106-414e-a578-92cbbfed73cb"
      },
      "outputs": [
        {
          "output_type": "stream",
          "name": "stdout",
          "text": [
            "[0.05042996 0.17851869 0.24263557 0.41874739 0.47718069 0.48312314\n",
            " 0.57203355 0.64528443 0.70924476 0.8228487 ]\n"
          ]
        }
      ],
      "source": [
        "vector = np.random.rand(10)\n",
        "vector.sort()\n",
        "\n",
        "print(vector)"
      ]
    },
    {
      "cell_type": "markdown",
      "id": "0fb4ad68",
      "metadata": {
        "id": "0fb4ad68"
      },
      "source": [
        "#### 41. How to sum a small array faster than np.sum? (★★☆)"
      ]
    },
    {
      "cell_type": "code",
      "execution_count": 276,
      "id": "a1ba05a0",
      "metadata": {
        "id": "a1ba05a0",
        "colab": {
          "base_uri": "https://localhost:8080/"
        },
        "outputId": "7d48a52f-8ebe-4ab2-c736-2d5a2afc7523"
      },
      "outputs": [
        {
          "output_type": "stream",
          "name": "stdout",
          "text": [
            "15\n"
          ]
        }
      ],
      "source": [
        "array = np.array([1, 2, 3, 4, 5])\n",
        "\n",
        "sum_array = np.add.reduce(array)\n",
        "\n",
        "print(sum_array)"
      ]
    },
    {
      "cell_type": "markdown",
      "id": "024ac365",
      "metadata": {
        "id": "024ac365"
      },
      "source": [
        "#### 42. Consider two random array A and B, check if they are equal (★★☆)"
      ]
    },
    {
      "cell_type": "code",
      "execution_count": 277,
      "id": "7db3846d",
      "metadata": {
        "id": "7db3846d",
        "colab": {
          "base_uri": "https://localhost:8080/"
        },
        "outputId": "1e88bede-1d01-4906-a0cd-7e2ffd1c0368"
      },
      "outputs": [
        {
          "output_type": "stream",
          "name": "stdout",
          "text": [
            "False\n"
          ]
        }
      ],
      "source": [
        "\n",
        "# Generate random arrays A and B\n",
        "A = np.random.rand(5)\n",
        "B = np.random.rand(5)\n",
        "\n",
        "# Check if arrays A and B are equal\n",
        "are_equal = np.array_equal(A, B)\n",
        "\n",
        "print(are_equal)"
      ]
    },
    {
      "cell_type": "markdown",
      "source": [
        "### 43. Make an array immutable (read-only)"
      ],
      "metadata": {
        "id": "poFWgL3jqZI-"
      },
      "id": "poFWgL3jqZI-"
    },
    {
      "cell_type": "code",
      "source": [
        "arr = np.array([1, 2, 3, 4, 5])\n",
        "\n",
        "# Make the array immutable\n",
        "arr.flags.writeable = False"
      ],
      "metadata": {
        "id": "60Y937rXqein"
      },
      "id": "60Y937rXqein",
      "execution_count": 278,
      "outputs": []
    },
    {
      "cell_type": "markdown",
      "id": "55df6280",
      "metadata": {
        "id": "55df6280"
      },
      "source": [
        "#### 44. Consider a random 10x2 matrix representing cartesian coordinates, convert them to polar coordinates (★★☆)"
      ]
    },
    {
      "cell_type": "code",
      "execution_count": 279,
      "id": "f1c86ea0",
      "metadata": {
        "id": "f1c86ea0",
        "colab": {
          "base_uri": "https://localhost:8080/"
        },
        "outputId": "efa8533b-b1b4-4a8d-b2ef-b1cc85608f94"
      },
      "outputs": [
        {
          "output_type": "stream",
          "name": "stdout",
          "text": [
            "[[0.64968581 0.39256549]\n",
            " [0.47157165 1.27233014]\n",
            " [0.41320678 1.26143291]\n",
            " [0.61952644 0.08204686]\n",
            " [0.38260697 0.99315201]\n",
            " [0.8786584  1.40745167]\n",
            " [0.99980334 0.78570558]\n",
            " [0.93807588 0.86354071]\n",
            " [0.35314797 0.93172479]\n",
            " [1.0093549  0.79671372]]\n"
          ]
        }
      ],
      "source": [
        "cartesian_coords = np.random.rand(10, 2)\n",
        "\n",
        "# Convert Cartesian coordinates to polar coordinates\n",
        "x, y = cartesian_coords[:, 0], cartesian_coords[:, 1]\n",
        "rho = np.hypot(x, y)\n",
        "theta = np.arctan2(y, x)\n",
        "\n",
        "polar_coords = np.column_stack((rho, theta))\n",
        "\n",
        "print(polar_coords)"
      ]
    },
    {
      "cell_type": "markdown",
      "id": "2f60f1ec",
      "metadata": {
        "id": "2f60f1ec"
      },
      "source": [
        "#### 45. Create random vector of size 10 and replace the maximum value by 0 (★★☆)"
      ]
    },
    {
      "cell_type": "code",
      "execution_count": 280,
      "id": "d9f48f1c",
      "metadata": {
        "id": "d9f48f1c",
        "colab": {
          "base_uri": "https://localhost:8080/"
        },
        "outputId": "82599342-361d-4a3e-fa05-a5be3a195807"
      },
      "outputs": [
        {
          "output_type": "stream",
          "name": "stdout",
          "text": [
            "[0.79357057 0.45957926 0.31396945 0.72158488 0.4079229  0.\n",
            " 0.1437091  0.71724699 0.26834089 0.79658097]\n"
          ]
        }
      ],
      "source": [
        "vector = np.random.rand(10)\n",
        "\n",
        "# Find the index of the maximum value\n",
        "max_index = np.argmax(vector)\n",
        "\n",
        "# Replace the maximum value by 0\n",
        "vector[max_index] = 0\n",
        "\n",
        "print(vector)"
      ]
    },
    {
      "cell_type": "markdown",
      "id": "084e8ad4",
      "metadata": {
        "id": "084e8ad4"
      },
      "source": [
        "#### 46. Create a structured array with `x` and `y` coordinates covering the [0,1]x[0,1] area (★★☆)"
      ]
    },
    {
      "cell_type": "code",
      "execution_count": 281,
      "id": "58b47c13",
      "metadata": {
        "id": "58b47c13",
        "colab": {
          "base_uri": "https://localhost:8080/"
        },
        "outputId": "35b1e188-90bc-499a-f74d-a90835001cd6"
      },
      "outputs": [
        {
          "output_type": "stream",
          "name": "stdout",
          "text": [
            "[[(0.        , 0.        ) (0.11111111, 0.        )\n",
            "  (0.22222222, 0.        ) (0.33333333, 0.        )\n",
            "  (0.44444444, 0.        ) (0.55555556, 0.        )\n",
            "  (0.66666667, 0.        ) (0.77777778, 0.        )\n",
            "  (0.88888889, 0.        ) (1.        , 0.        )]\n",
            " [(0.        , 0.11111111) (0.11111111, 0.11111111)\n",
            "  (0.22222222, 0.11111111) (0.33333333, 0.11111111)\n",
            "  (0.44444444, 0.11111111) (0.55555556, 0.11111111)\n",
            "  (0.66666667, 0.11111111) (0.77777778, 0.11111111)\n",
            "  (0.88888889, 0.11111111) (1.        , 0.11111111)]\n",
            " [(0.        , 0.22222222) (0.11111111, 0.22222222)\n",
            "  (0.22222222, 0.22222222) (0.33333333, 0.22222222)\n",
            "  (0.44444444, 0.22222222) (0.55555556, 0.22222222)\n",
            "  (0.66666667, 0.22222222) (0.77777778, 0.22222222)\n",
            "  (0.88888889, 0.22222222) (1.        , 0.22222222)]\n",
            " [(0.        , 0.33333333) (0.11111111, 0.33333333)\n",
            "  (0.22222222, 0.33333333) (0.33333333, 0.33333333)\n",
            "  (0.44444444, 0.33333333) (0.55555556, 0.33333333)\n",
            "  (0.66666667, 0.33333333) (0.77777778, 0.33333333)\n",
            "  (0.88888889, 0.33333333) (1.        , 0.33333333)]\n",
            " [(0.        , 0.44444444) (0.11111111, 0.44444444)\n",
            "  (0.22222222, 0.44444444) (0.33333333, 0.44444444)\n",
            "  (0.44444444, 0.44444444) (0.55555556, 0.44444444)\n",
            "  (0.66666667, 0.44444444) (0.77777778, 0.44444444)\n",
            "  (0.88888889, 0.44444444) (1.        , 0.44444444)]\n",
            " [(0.        , 0.55555556) (0.11111111, 0.55555556)\n",
            "  (0.22222222, 0.55555556) (0.33333333, 0.55555556)\n",
            "  (0.44444444, 0.55555556) (0.55555556, 0.55555556)\n",
            "  (0.66666667, 0.55555556) (0.77777778, 0.55555556)\n",
            "  (0.88888889, 0.55555556) (1.        , 0.55555556)]\n",
            " [(0.        , 0.66666667) (0.11111111, 0.66666667)\n",
            "  (0.22222222, 0.66666667) (0.33333333, 0.66666667)\n",
            "  (0.44444444, 0.66666667) (0.55555556, 0.66666667)\n",
            "  (0.66666667, 0.66666667) (0.77777778, 0.66666667)\n",
            "  (0.88888889, 0.66666667) (1.        , 0.66666667)]\n",
            " [(0.        , 0.77777778) (0.11111111, 0.77777778)\n",
            "  (0.22222222, 0.77777778) (0.33333333, 0.77777778)\n",
            "  (0.44444444, 0.77777778) (0.55555556, 0.77777778)\n",
            "  (0.66666667, 0.77777778) (0.77777778, 0.77777778)\n",
            "  (0.88888889, 0.77777778) (1.        , 0.77777778)]\n",
            " [(0.        , 0.88888889) (0.11111111, 0.88888889)\n",
            "  (0.22222222, 0.88888889) (0.33333333, 0.88888889)\n",
            "  (0.44444444, 0.88888889) (0.55555556, 0.88888889)\n",
            "  (0.66666667, 0.88888889) (0.77777778, 0.88888889)\n",
            "  (0.88888889, 0.88888889) (1.        , 0.88888889)]\n",
            " [(0.        , 1.        ) (0.11111111, 1.        )\n",
            "  (0.22222222, 1.        ) (0.33333333, 1.        )\n",
            "  (0.44444444, 1.        ) (0.55555556, 1.        )\n",
            "  (0.66666667, 1.        ) (0.77777778, 1.        )\n",
            "  (0.88888889, 1.        ) (1.        , 1.        )]]\n"
          ]
        }
      ],
      "source": [
        "dtype = [('x', float), ('y', float)]\n",
        "\n",
        "# Generate x and y coordinates covering [0,1]x[0,1]\n",
        "x = np.linspace(0, 1, 10)\n",
        "y = np.linspace(0, 1, 10)\n",
        "\n",
        "# Create the structured array\n",
        "structured_array = np.zeros((10, 10), dtype=dtype)\n",
        "structured_array['x'], structured_array['y'] = np.meshgrid(x, y)\n",
        "\n",
        "print(structured_array)"
      ]
    },
    {
      "cell_type": "markdown",
      "id": "d7b9bc42",
      "metadata": {
        "id": "d7b9bc42"
      },
      "source": [
        "#### 47. Given two arrays, X and Y, construct the Cauchy matrix C (Cij =1/(xi - yj)) (★★☆)"
      ]
    },
    {
      "cell_type": "code",
      "execution_count": 282,
      "id": "a24824fb",
      "metadata": {
        "id": "a24824fb",
        "colab": {
          "base_uri": "https://localhost:8080/"
        },
        "outputId": "77945ed8-1594-4dff-dc8e-73c2e7112010"
      },
      "outputs": [
        {
          "output_type": "stream",
          "name": "stdout",
          "text": [
            "[[-0.33333333 -0.25       -0.2       ]\n",
            " [-0.5        -0.33333333 -0.25      ]\n",
            " [-1.         -0.5        -0.33333333]]\n"
          ]
        }
      ],
      "source": [
        "X = np.array([1, 2, 3])\n",
        "Y = np.array([4, 5, 6])\n",
        "\n",
        "# Construct the Cauchy matrix C\n",
        "C = 1 / (X[:, np.newaxis] - Y)\n",
        "\n",
        "print(C)"
      ]
    },
    {
      "cell_type": "markdown",
      "id": "9b317a98",
      "metadata": {
        "id": "9b317a98"
      },
      "source": [
        "#### 49. How to print all the values of an array? (★★☆)"
      ]
    },
    {
      "cell_type": "code",
      "execution_count": 283,
      "id": "309cdeb9",
      "metadata": {
        "id": "309cdeb9",
        "colab": {
          "base_uri": "https://localhost:8080/"
        },
        "outputId": "a344495e-a24e-475d-ecfb-650b78b89072"
      },
      "outputs": [
        {
          "output_type": "stream",
          "name": "stdout",
          "text": [
            "[[1 2 3]\n",
            " [4 5 6]\n",
            " [7 8 9]]\n"
          ]
        }
      ],
      "source": [
        "arr = np.array([[1, 2, 3],\n",
        "                [4, 5, 6],\n",
        "                [7, 8, 9]])\n",
        "\n",
        "# Print all values of the array\n",
        "print(arr)"
      ]
    },
    {
      "cell_type": "markdown",
      "id": "b580f9d0",
      "metadata": {
        "id": "b580f9d0"
      },
      "source": [
        "#### 50. How to find the closest value (to a given scalar) in a vector? (★★☆)"
      ]
    },
    {
      "cell_type": "code",
      "execution_count": 284,
      "id": "ebfb6714",
      "metadata": {
        "id": "ebfb6714",
        "colab": {
          "base_uri": "https://localhost:8080/"
        },
        "outputId": "7c68fe71-233a-4caa-c732-3fd7b7e868c3"
      },
      "outputs": [
        {
          "output_type": "stream",
          "name": "stdout",
          "text": [
            "3\n"
          ]
        }
      ],
      "source": [
        "vector = np.array([1, 3, 5, 7, 9])\n",
        "\n",
        "# Given scalar\n",
        "scalar = 4\n",
        "\n",
        "# Find index of closest value\n",
        "closest_index = np.abs(vector - scalar).argmin()\n",
        "\n",
        "# Closest value\n",
        "closest_value = vector[closest_index]\n",
        "\n",
        "print(closest_value)"
      ]
    },
    {
      "cell_type": "markdown",
      "id": "602e6252",
      "metadata": {
        "id": "602e6252"
      },
      "source": [
        "#### 51. Create a structured array representing a position (x,y) and a color (r,g,b) (★★☆)"
      ]
    },
    {
      "cell_type": "code",
      "execution_count": 285,
      "id": "cf002b3a",
      "metadata": {
        "id": "cf002b3a",
        "colab": {
          "base_uri": "https://localhost:8080/"
        },
        "outputId": "02483313-11f2-467a-9d7d-308c5be11bf3"
      },
      "outputs": [
        {
          "output_type": "stream",
          "name": "stdout",
          "text": [
            "[((10., 20.), (255, 128, 0))]\n"
          ]
        }
      ],
      "source": [
        "dtype = [('position', [('x', float), ('y', float)]),\n",
        "         ('color', [('r', int), ('g', int), ('b', int)])]\n",
        "\n",
        "# Create a structured array\n",
        "structured_array = np.zeros(1, dtype=dtype)\n",
        "\n",
        "# Set values for position and color\n",
        "structured_array['position']['x'] = 10.0\n",
        "structured_array['position']['y'] = 20.0\n",
        "structured_array['color']['r'] = 255\n",
        "structured_array['color']['g'] = 128\n",
        "structured_array['color']['b'] = 0\n",
        "\n",
        "print(structured_array)"
      ]
    },
    {
      "cell_type": "markdown",
      "id": "78bcd92f",
      "metadata": {
        "id": "78bcd92f"
      },
      "source": [
        "#### 52. Consider a random vector with shape (100,2) representing coordinates, find point by point distances (★★☆)"
      ]
    },
    {
      "cell_type": "code",
      "execution_count": 286,
      "id": "fea7f9a6",
      "metadata": {
        "id": "fea7f9a6",
        "colab": {
          "base_uri": "https://localhost:8080/"
        },
        "outputId": "ff35ae28-b369-42f7-c621-a5f03f6e023f"
      },
      "outputs": [
        {
          "output_type": "stream",
          "name": "stdout",
          "text": [
            "[[0.         0.13252658 0.36776415 ... 0.09436096 0.12033351 0.72420503]\n",
            " [0.13252658 0.         0.25971153 ... 0.0548464  0.17398732 0.68042032]\n",
            " [0.36776415 0.25971153 0.         ... 0.2748204  0.32056008 0.48294723]\n",
            " ...\n",
            " [0.09436096 0.0548464  0.2748204  ... 0.         0.11974534 0.66135638]\n",
            " [0.12033351 0.17398732 0.32056008 ... 0.11974534 0.         0.61350598]\n",
            " [0.72420503 0.68042032 0.48294723 ... 0.66135638 0.61350598 0.        ]]\n"
          ]
        }
      ],
      "source": [
        "from scipy.spatial.distance import cdist\n",
        "\n",
        "# Generate random vector of shape (100, 2) representing coordinates\n",
        "coordinates = np.random.rand(100, 2)\n",
        "\n",
        "# Compute point-by-point distances\n",
        "distances = cdist(coordinates, coordinates)\n",
        "\n",
        "print(distances)"
      ]
    },
    {
      "cell_type": "markdown",
      "id": "343c5a85",
      "metadata": {
        "id": "343c5a85"
      },
      "source": [
        "#### 53. How to convert a float (32 bits) array into an integer (32 bits) in place?"
      ]
    },
    {
      "cell_type": "code",
      "execution_count": 287,
      "id": "fc1b687b",
      "metadata": {
        "id": "fc1b687b",
        "colab": {
          "base_uri": "https://localhost:8080/"
        },
        "outputId": "67708655-8363-4564-e1ab-5c22f8a2e5e1"
      },
      "outputs": [
        {
          "output_type": "stream",
          "name": "stdout",
          "text": [
            "[1.5 2.5 3.5]\n"
          ]
        }
      ],
      "source": [
        "float_array = np.array([1.5, 2.5, 3.5], dtype=np.float32)\n",
        "\n",
        "# Convert the float array to an integer (32 bits) array in place\n",
        "float_array.view(dtype=np.int32)\n",
        "\n",
        "print(float_array)"
      ]
    },
    {
      "cell_type": "markdown",
      "id": "a69e1ace",
      "metadata": {
        "id": "a69e1ace"
      },
      "source": [
        "#### 54. How to read the following file? (★★☆)\n",
        "```\n",
        "1, 2, 3, 4, 5\n",
        "6,  ,  , 7, 8\n",
        " ,  , 9,10,11\n",
        "```"
      ]
    },
    {
      "cell_type": "code",
      "execution_count": 288,
      "id": "1c7957d4",
      "metadata": {
        "id": "1c7957d4"
      },
      "outputs": [],
      "source": [
        "#with open('filename.txt', 'r') as file:\n",
        "    # Read the entire contents of the file\n",
        " #   contents = file.read()\n",
        "\n",
        "# Print the contents of the file\n",
        "#print(contents)"
      ]
    },
    {
      "cell_type": "markdown",
      "id": "c23bd80d",
      "metadata": {
        "id": "c23bd80d"
      },
      "source": [
        "#### 55. What is the equivalent of enumerate for numpy arrays? (★★☆)"
      ]
    },
    {
      "cell_type": "code",
      "execution_count": 289,
      "id": "d95d9578",
      "metadata": {
        "id": "d95d9578",
        "colab": {
          "base_uri": "https://localhost:8080/"
        },
        "outputId": "f9d332dd-8325-4d83-bdca-0e1b84b0551c"
      },
      "outputs": [
        {
          "output_type": "stream",
          "name": "stdout",
          "text": [
            "(0, 0) 1\n",
            "(0, 1) 2\n",
            "(0, 2) 3\n",
            "(1, 0) 4\n",
            "(1, 1) 5\n",
            "(1, 2) 6\n"
          ]
        }
      ],
      "source": [
        "arr = np.array([[1, 2, 3],\n",
        "                [4, 5, 6]])\n",
        "\n",
        "# Enumerate over the array\n",
        "for index, value in np.ndenumerate(arr):\n",
        "    print(index, value)"
      ]
    },
    {
      "cell_type": "markdown",
      "id": "2153a5ec",
      "metadata": {
        "id": "2153a5ec"
      },
      "source": [
        "#### 56. Generate a generic 2D Gaussian-like array (★★☆)"
      ]
    },
    {
      "cell_type": "code",
      "execution_count": 290,
      "id": "61122d1e",
      "metadata": {
        "id": "61122d1e",
        "colab": {
          "base_uri": "https://localhost:8080/"
        },
        "outputId": "30bc5e5f-5b99-4a5f-c848-1b5f99a0f7cc"
      },
      "outputs": [
        {
          "output_type": "stream",
          "name": "stdout",
          "text": [
            "[[0.36787944 0.44822088 0.51979489 0.57375342 0.60279818 0.60279818\n",
            "  0.57375342 0.51979489 0.44822088 0.36787944]\n",
            " [0.44822088 0.54610814 0.63331324 0.69905581 0.73444367 0.73444367\n",
            "  0.69905581 0.63331324 0.54610814 0.44822088]\n",
            " [0.51979489 0.63331324 0.73444367 0.81068432 0.85172308 0.85172308\n",
            "  0.81068432 0.73444367 0.63331324 0.51979489]\n",
            " [0.57375342 0.69905581 0.81068432 0.89483932 0.9401382  0.9401382\n",
            "  0.89483932 0.81068432 0.69905581 0.57375342]\n",
            " [0.60279818 0.73444367 0.85172308 0.9401382  0.98773022 0.98773022\n",
            "  0.9401382  0.85172308 0.73444367 0.60279818]\n",
            " [0.60279818 0.73444367 0.85172308 0.9401382  0.98773022 0.98773022\n",
            "  0.9401382  0.85172308 0.73444367 0.60279818]\n",
            " [0.57375342 0.69905581 0.81068432 0.89483932 0.9401382  0.9401382\n",
            "  0.89483932 0.81068432 0.69905581 0.57375342]\n",
            " [0.51979489 0.63331324 0.73444367 0.81068432 0.85172308 0.85172308\n",
            "  0.81068432 0.73444367 0.63331324 0.51979489]\n",
            " [0.44822088 0.54610814 0.63331324 0.69905581 0.73444367 0.73444367\n",
            "  0.69905581 0.63331324 0.54610814 0.44822088]\n",
            " [0.36787944 0.44822088 0.51979489 0.57375342 0.60279818 0.60279818\n",
            "  0.57375342 0.51979489 0.44822088 0.36787944]]\n"
          ]
        }
      ],
      "source": [
        "X, Y = np.meshgrid(np.linspace(-1,1,10), np.linspace(-1,1,10))\n",
        "D = np.sqrt(X*X+Y*Y)\n",
        "sigma, mu = 1.0, 0.0\n",
        "G = np.exp(-( (D-mu)**2 / ( 2.0 * sigma**2 ) ) )\n",
        "print(G)"
      ]
    },
    {
      "cell_type": "markdown",
      "id": "2e76d589",
      "metadata": {
        "id": "2e76d589"
      },
      "source": [
        "#### 57. How to randomly place p elements in a 2D array? (★★☆)"
      ]
    },
    {
      "cell_type": "code",
      "execution_count": 291,
      "id": "0c2e4fcc",
      "metadata": {
        "id": "0c2e4fcc",
        "colab": {
          "base_uri": "https://localhost:8080/"
        },
        "outputId": "7782def1-81b9-4202-d7d0-8af610648b75"
      },
      "outputs": [
        {
          "output_type": "stream",
          "name": "stdout",
          "text": [
            "[[0 0 1 0 0]\n",
            " [0 1 0 0 0]\n",
            " [1 0 0 0 0]\n",
            " [0 0 0 1 0]\n",
            " [0 1 0 0 0]]\n"
          ]
        }
      ],
      "source": [
        "# Size of the 2D array\n",
        "rows, cols = 5, 5\n",
        "\n",
        "# Number of elements to randomly place\n",
        "p = 5\n",
        "\n",
        "# Create a 2D array filled with zeros\n",
        "arr = np.zeros((rows, cols), dtype=int)\n",
        "\n",
        "# Generate random indices\n",
        "indices = np.random.choice(rows * cols, p, replace=False)\n",
        "\n",
        "# Place random elements at the chosen indices\n",
        "arr.flat[indices] = 1\n",
        "\n",
        "print(arr)"
      ]
    },
    {
      "cell_type": "markdown",
      "id": "8b3933eb",
      "metadata": {
        "id": "8b3933eb"
      },
      "source": [
        "#### 58. Subtract the mean of each row of a matrix (★★☆)"
      ]
    },
    {
      "cell_type": "code",
      "execution_count": 292,
      "id": "a306c9ef",
      "metadata": {
        "colab": {
          "base_uri": "https://localhost:8080/"
        },
        "id": "a306c9ef",
        "outputId": "dbe674bf-3506-4cfe-b959-eaa44afd1f5d"
      },
      "outputs": [
        {
          "output_type": "execute_result",
          "data": {
            "text/plain": [
              "array([[ 0.13780757,  0.14109777, -0.15204898,  0.195359  , -0.37609557,\n",
              "         0.29963727,  0.09511588,  0.20568163, -0.19505815, -0.35149642],\n",
              "       [-0.14602815, -0.43350261,  0.13672532, -0.03996562,  0.05431944,\n",
              "        -0.40450542,  0.19053078,  0.2854897 ,  0.38557694, -0.02864038],\n",
              "       [ 0.0400008 ,  0.16948145,  0.16349122,  0.41926865, -0.25895898,\n",
              "         0.10368083, -0.34344872, -0.20060414,  0.32866609, -0.4215772 ],\n",
              "       [-0.00377965, -0.28606444,  0.38133812, -0.51084518,  0.11155401,\n",
              "         0.34122284,  0.27017013, -0.29114484, -0.32455409,  0.31210309],\n",
              "       [-0.02586304, -0.21162337,  0.35752495, -0.15208277, -0.28656574,\n",
              "         0.59857535, -0.35922009,  0.28075314, -0.03242794, -0.16907048]])"
            ]
          },
          "metadata": {},
          "execution_count": 292
        }
      ],
      "source": [
        "X = np.random.rand(5, 10)\n",
        "\n",
        "Y = X - X.mean(axis=1, keepdims=True)\n",
        "Y"
      ]
    },
    {
      "cell_type": "markdown",
      "id": "ea8807c0",
      "metadata": {
        "id": "ea8807c0"
      },
      "source": [
        "#### 59. How to sort an array by the nth column? (★★☆)"
      ]
    },
    {
      "cell_type": "code",
      "execution_count": 293,
      "id": "cc89a699",
      "metadata": {
        "id": "cc89a699",
        "colab": {
          "base_uri": "https://localhost:8080/"
        },
        "outputId": "55661eb6-eb7d-4eca-ae38-1ebe7f5b8b9f"
      },
      "outputs": [
        {
          "output_type": "stream",
          "name": "stdout",
          "text": [
            "[[3 2 2]\n",
            " [2 3 1]\n",
            " [1 4 3]]\n"
          ]
        }
      ],
      "source": [
        "# Create an example array\n",
        "arr = np.array([[1, 4, 3],\n",
        "                [2, 3, 1],\n",
        "                [3, 2, 2]])\n",
        "\n",
        "# Define the column index to sort by (0-based indexing)\n",
        "n = 1\n",
        "\n",
        "# Get the indices that would sort the array by the nth column\n",
        "indices = np.argsort(arr[:, n])\n",
        "\n",
        "# Rearrange the rows of the array based on the sorted indices\n",
        "sorted_arr = arr[indices]\n",
        "\n",
        "print(sorted_arr)"
      ]
    },
    {
      "cell_type": "markdown",
      "id": "00fa00a1",
      "metadata": {
        "id": "00fa00a1"
      },
      "source": [
        "#### 60. How to tell if a given 2D array has null columns? (★★☆)"
      ]
    },
    {
      "cell_type": "code",
      "execution_count": 294,
      "id": "3436e165",
      "metadata": {
        "id": "3436e165",
        "colab": {
          "base_uri": "https://localhost:8080/"
        },
        "outputId": "5e29366d-3a1e-45ab-cd2a-bcad40e07159"
      },
      "outputs": [
        {
          "output_type": "stream",
          "name": "stdout",
          "text": [
            "[False  True False]\n"
          ]
        }
      ],
      "source": [
        "# Create an example 2D array\n",
        "arr = np.array([[1, 0, 3],\n",
        "                [0, 0, 0],\n",
        "                [0, 0, 0]])\n",
        "\n",
        "# Check if any column contains all zeros\n",
        "null_columns = np.all(arr == 0, axis=0)\n",
        "\n",
        "print(null_columns)"
      ]
    },
    {
      "cell_type": "markdown",
      "id": "5a65c7a2",
      "metadata": {
        "id": "5a65c7a2"
      },
      "source": [
        "#### 61. Find the nearest value from a given value in an array (★★☆)"
      ]
    },
    {
      "cell_type": "code",
      "execution_count": 295,
      "id": "73f149d6",
      "metadata": {
        "id": "73f149d6",
        "colab": {
          "base_uri": "https://localhost:8080/"
        },
        "outputId": "4a4c13bd-e986-4999-9265-06bfe7a44dde"
      },
      "outputs": [
        {
          "output_type": "stream",
          "name": "stdout",
          "text": [
            "5\n"
          ]
        }
      ],
      "source": [
        "# Example array\n",
        "arr = np.array([1, 3, 5, 7, 9])\n",
        "\n",
        "# Given value\n",
        "value = 6\n",
        "\n",
        "# Find index of nearest value\n",
        "nearest_index = np.abs(arr - value).argmin()\n",
        "\n",
        "# Nearest value\n",
        "nearest_value = arr[nearest_index]\n",
        "\n",
        "print(nearest_value)"
      ]
    },
    {
      "cell_type": "markdown",
      "id": "dd83e8af",
      "metadata": {
        "id": "dd83e8af"
      },
      "source": [
        "#### 62. Considering two arrays with shape (1,3) and (3,1), how to compute their sum using an iterator? (★★☆)"
      ]
    },
    {
      "cell_type": "code",
      "execution_count": 296,
      "id": "29a709a1",
      "metadata": {
        "id": "29a709a1",
        "colab": {
          "base_uri": "https://localhost:8080/"
        },
        "outputId": "56b2d4f5-4436-4651-8efa-4ec0b5f939f3"
      },
      "outputs": [
        {
          "output_type": "stream",
          "name": "stdout",
          "text": [
            "21\n"
          ]
        }
      ],
      "source": [
        "# Define the arrays\n",
        "array1 = np.array([[1, 2, 3]])\n",
        "array2 = np.array([[4], [5], [6]])\n",
        "\n",
        "# Initialize the sum\n",
        "total_sum = 0\n",
        "\n",
        "# Iterate over the elements of both arrays and compute the sum\n",
        "for a, b in zip(array1.flat, array2.flat):\n",
        "    total_sum += a + b\n",
        "\n",
        "print(total_sum)"
      ]
    },
    {
      "cell_type": "markdown",
      "id": "6c042efa",
      "metadata": {
        "id": "6c042efa"
      },
      "source": [
        "#### 63. Create an array class that has a name attribute (★★☆)"
      ]
    },
    {
      "cell_type": "code",
      "execution_count": 297,
      "id": "45b3d2e0",
      "metadata": {
        "id": "45b3d2e0",
        "colab": {
          "base_uri": "https://localhost:8080/"
        },
        "outputId": "b14d3671-22e8-4203-f3a8-8e4afc380e9a"
      },
      "outputs": [
        {
          "output_type": "stream",
          "name": "stdout",
          "text": [
            "Name: example\n",
            "Data: [[1 2 3]\n",
            " [4 5 6]]\n"
          ]
        }
      ],
      "source": [
        "class NamedArray:\n",
        "    def __init__(self, name, data):\n",
        "        self.name = name\n",
        "        self.data = np.array(data)\n",
        "\n",
        "# Example usage:\n",
        "my_array = NamedArray(\"example\", [[1, 2, 3], [4, 5, 6]])\n",
        "print(\"Name:\", my_array.name)\n",
        "print(\"Data:\", my_array.data)"
      ]
    },
    {
      "cell_type": "markdown",
      "id": "0a075c3d",
      "metadata": {
        "id": "0a075c3d"
      },
      "source": [
        "#### 64. Consider a given vector, how to add 1 to each element indexed by a second vector (be careful with repeated indices)? (★★★)"
      ]
    },
    {
      "cell_type": "code",
      "execution_count": 298,
      "id": "36c50470",
      "metadata": {
        "id": "36c50470",
        "colab": {
          "base_uri": "https://localhost:8080/"
        },
        "outputId": "7cc16505-ae59-454c-c044-668f644a137b"
      },
      "outputs": [
        {
          "output_type": "stream",
          "name": "stdout",
          "text": [
            "[3. 4. 2. 2. 3. 3. 3. 3. 4. 3.]\n"
          ]
        }
      ],
      "source": [
        "Z = np.ones(10)\n",
        "I = np.random.randint(0,len(Z),20)\n",
        "Z += np.bincount(I, minlength=len(Z))\n",
        "print(Z)"
      ]
    },
    {
      "cell_type": "markdown",
      "id": "0fb2f0c5",
      "metadata": {
        "id": "0fb2f0c5"
      },
      "source": [
        "#### 65. How to accumulate elements of a vector (X) to an array (F) based on an index list (I)? (★★★)"
      ]
    },
    {
      "cell_type": "code",
      "execution_count": 299,
      "id": "58aa5f82",
      "metadata": {
        "id": "58aa5f82",
        "colab": {
          "base_uri": "https://localhost:8080/"
        },
        "outputId": "73492e64-798d-4986-a205-2b20a4ab2786"
      },
      "outputs": [
        {
          "output_type": "stream",
          "name": "stdout",
          "text": [
            "[5. 5. 3. 2.]\n"
          ]
        }
      ],
      "source": [
        "X = np.array([1, 2, 3, 4, 5])\n",
        "\n",
        "# Example index list I\n",
        "I = np.array([1, 3, 2, 1, 0])\n",
        "\n",
        "# Example array F\n",
        "F = np.zeros(4)\n",
        "\n",
        "# Accumulate elements of X into F based on the index list I\n",
        "np.add.at(F, I, X)\n",
        "\n",
        "print(F)"
      ]
    },
    {
      "cell_type": "markdown",
      "id": "d89dc506",
      "metadata": {
        "id": "d89dc506"
      },
      "source": [
        "#### 66. Considering a (w,h,3) image of (dtype=ubyte), compute the number of unique colors (★★☆)"
      ]
    },
    {
      "cell_type": "code",
      "execution_count": 300,
      "id": "8fb43a49",
      "metadata": {
        "id": "8fb43a49",
        "colab": {
          "base_uri": "https://localhost:8080/"
        },
        "outputId": "024f8838-6d5e-41b0-ea93-427234a1a81d"
      },
      "outputs": [
        {
          "output_type": "stream",
          "name": "stdout",
          "text": [
            "100\n"
          ]
        }
      ],
      "source": [
        "# Example image with shape (w, h, 3)\n",
        "image = np.random.randint(0, 256, size=(10, 10, 3), dtype=np.uint8)\n",
        "\n",
        "# Flatten the image along the color channels\n",
        "flattened_image = image.reshape(-1, 3)\n",
        "\n",
        "# Compute the number of unique colors\n",
        "num_unique_colors = len(np.unique(flattened_image, axis=0))\n",
        "\n",
        "print(num_unique_colors)"
      ]
    },
    {
      "cell_type": "markdown",
      "id": "535a5d81",
      "metadata": {
        "id": "535a5d81"
      },
      "source": [
        "#### 67. Considering a four dimensions array, how to get sum over the last two axis at once? (★★★)"
      ]
    },
    {
      "cell_type": "code",
      "execution_count": 301,
      "id": "f954ab9d",
      "metadata": {
        "id": "f954ab9d",
        "colab": {
          "base_uri": "https://localhost:8080/"
        },
        "outputId": "6ffe03c5-7214-40db-eb48-367ca3037e76"
      },
      "outputs": [
        {
          "output_type": "stream",
          "name": "stdout",
          "text": [
            "[[ 80  70 100]\n",
            " [ 72  82  88]]\n"
          ]
        }
      ],
      "source": [
        "# Create a four-dimensional array (example)\n",
        "array = np.random.randint(0, 10, size=(2, 3, 4, 5))\n",
        "\n",
        "# Get the sum over the last two axes\n",
        "sum_last_two_axes = np.sum(array, axis=(-1, -2))\n",
        "\n",
        "print(sum_last_two_axes)"
      ]
    },
    {
      "cell_type": "markdown",
      "id": "eee66d3c",
      "metadata": {
        "id": "eee66d3c"
      },
      "source": [
        "#### 68. Considering a one-dimensional vector D, how to compute means of subsets of D using a vector S of same size describing subset  indices? (★★★)"
      ]
    },
    {
      "cell_type": "code",
      "execution_count": 302,
      "id": "8929773a",
      "metadata": {
        "id": "8929773a",
        "colab": {
          "base_uri": "https://localhost:8080/"
        },
        "outputId": "66500172-2986-427c-f336-228a45ca8ddd"
      },
      "outputs": [
        {
          "output_type": "stream",
          "name": "stdout",
          "text": [
            "[2.0, 3.6666666666666665]\n"
          ]
        }
      ],
      "source": [
        "D = np.array([1, 2, 3, 4, 5])\n",
        "\n",
        "# Example vector S describing subset indices\n",
        "S = np.array([0, 1, 0, 1, 1])\n",
        "\n",
        "# Get the unique subset indices\n",
        "subset_indices = np.unique(S)\n",
        "\n",
        "# Compute the means of subsets of D\n",
        "subset_means = [np.mean(D[S == i]) for i in subset_indices]\n",
        "\n",
        "print(subset_means)"
      ]
    },
    {
      "cell_type": "markdown",
      "id": "f90d4c40",
      "metadata": {
        "id": "f90d4c40"
      },
      "source": [
        "#### 69. How to get the diagonal of a dot product? (★★★)"
      ]
    },
    {
      "cell_type": "code",
      "execution_count": 303,
      "id": "b47d392d",
      "metadata": {
        "id": "b47d392d",
        "colab": {
          "base_uri": "https://localhost:8080/"
        },
        "outputId": "4d4d6c8b-bbbe-41ef-ca6d-0970cd29e381"
      },
      "outputs": [
        {
          "output_type": "stream",
          "name": "stdout",
          "text": [
            "[19 50]\n"
          ]
        }
      ],
      "source": [
        "# Create two matrices\n",
        "A = np.array([[1, 2], [3, 4]])\n",
        "B = np.array([[5, 6], [7, 8]])\n",
        "\n",
        "# Compute the dot product\n",
        "dot_product = np.dot(A, B)\n",
        "\n",
        "# Get the diagonal of the dot product\n",
        "diagonal = np.diagonal(dot_product)\n",
        "\n",
        "print(diagonal)"
      ]
    },
    {
      "cell_type": "markdown",
      "id": "a8a97e7d",
      "metadata": {
        "id": "a8a97e7d"
      },
      "source": [
        "#### 70. Consider the vector [1, 2, 3, 4, 5], how to build a new vector with 3 consecutive zeros interleaved between each value? (★★★)"
      ]
    },
    {
      "cell_type": "markdown",
      "id": "d6a30d60",
      "metadata": {
        "id": "d6a30d60"
      },
      "source": [
        "#### 71. Consider an array of dimension (5,5,3), how to mulitply it by an array with dimensions (5,5)? (★★★)"
      ]
    },
    {
      "cell_type": "code",
      "execution_count": 304,
      "id": "e9703f2e",
      "metadata": {
        "id": "e9703f2e",
        "colab": {
          "base_uri": "https://localhost:8080/"
        },
        "outputId": "2c7e0295-8b13-4dfc-e2e1-b646a8b0a0c6"
      },
      "outputs": [
        {
          "output_type": "stream",
          "name": "stdout",
          "text": [
            "[[[45  5 20]\n",
            "  [35 28 63]\n",
            "  [24 36 42]\n",
            "  [12 18 42]\n",
            "  [35 63 42]]\n",
            "\n",
            " [[ 9 18  6]\n",
            "  [16  6  4]\n",
            "  [ 5  0  5]\n",
            "  [32 28 12]\n",
            "  [56 21 14]]\n",
            "\n",
            " [[ 0  6 21]\n",
            "  [56 21 63]\n",
            "  [24 12 12]\n",
            "  [ 0  0  0]\n",
            "  [ 8  5  3]]\n",
            "\n",
            " [[27 63 72]\n",
            "  [12  9 18]\n",
            "  [40 30 40]\n",
            "  [27  0  3]\n",
            "  [ 8 16  0]]\n",
            "\n",
            " [[12 14  0]\n",
            "  [21 12  3]\n",
            "  [ 0 24  6]\n",
            "  [36 30 48]\n",
            "  [27 81 81]]]\n"
          ]
        }
      ],
      "source": [
        "# Create an array of dimension (5, 5, 3)\n",
        "array_3d = np.random.randint(0, 10, size=(5, 5, 3))\n",
        "\n",
        "# Create an array with dimensions (5, 5)\n",
        "array_2d = np.random.randint(0, 10, size=(5, 5))\n",
        "\n",
        "# Multiply the 3D array by the 2D array\n",
        "result = array_3d * array_2d[:, :, np.newaxis]\n",
        "\n",
        "print(result)"
      ]
    },
    {
      "cell_type": "markdown",
      "id": "bac359a9",
      "metadata": {
        "id": "bac359a9"
      },
      "source": [
        "#### 72. How to swap two rows of an array? (★★★)"
      ]
    },
    {
      "cell_type": "code",
      "execution_count": 305,
      "id": "f1b432b1",
      "metadata": {
        "id": "f1b432b1",
        "colab": {
          "base_uri": "https://localhost:8080/"
        },
        "outputId": "c9fbcbc2-0087-4f18-bcff-fcc0d896e2f5"
      },
      "outputs": [
        {
          "output_type": "stream",
          "name": "stdout",
          "text": [
            "[[4 5 6]\n",
            " [4 5 6]\n",
            " [7 8 9]]\n"
          ]
        }
      ],
      "source": [
        "# Create an example array\n",
        "arr = np.array([[1, 2, 3],\n",
        "                [4, 5, 6],\n",
        "                [7, 8, 9]])\n",
        "\n",
        "# Swap rows 0 and 1\n",
        "arr[0], arr[1] = arr[1], arr[0]\n",
        "\n",
        "print(arr)"
      ]
    },
    {
      "cell_type": "markdown",
      "id": "620c9f83",
      "metadata": {
        "id": "620c9f83"
      },
      "source": [
        "#### 73. Consider a set of 10 triplets describing 10 triangles (with shared vertices), find the set of unique line segments composing all the  triangles (★★★)"
      ]
    },
    {
      "cell_type": "code",
      "execution_count": 306,
      "id": "4e595ffc",
      "metadata": {
        "id": "4e595ffc",
        "colab": {
          "base_uri": "https://localhost:8080/"
        },
        "outputId": "c50f98bb-4d86-43e3-c0eb-40b2a74143b9"
      },
      "outputs": [
        {
          "output_type": "stream",
          "name": "stdout",
          "text": [
            "{((4, 4), (5, 5)), ((9, 9), (7, 7)), ((7, 7), (5, 5)), ((3, 3), (4, 4)), ((8, 8), (9, 9)), ((1, 1), (9, 9)), ((1, 1), (2, 2)), ((5, 5), (6, 6)), ((3, 3), (1, 1)), ((4, 4), (2, 2)), ((0, 0), (1, 1)), ((8, 8), (6, 6)), ((2, 2), (3, 3)), ((6, 6), (7, 7)), ((9, 9), (0, 0)), ((0, 0), (8, 8)), ((7, 7), (8, 8)), ((2, 2), (0, 0)), ((6, 6), (4, 4)), ((5, 5), (3, 3))}\n"
          ]
        }
      ],
      "source": [
        "# Example set of 10 triplets describing triangles (shared vertices)\n",
        "triplets = [\n",
        "    ((0, 0), (1, 1), (2, 2)),\n",
        "    ((1, 1), (2, 2), (3, 3)),\n",
        "    ((2, 2), (3, 3), (4, 4)),\n",
        "    ((3, 3), (4, 4), (5, 5)),\n",
        "    ((4, 4), (5, 5), (6, 6)),\n",
        "    ((5, 5), (6, 6), (7, 7)),\n",
        "    ((6, 6), (7, 7), (8, 8)),\n",
        "    ((7, 7), (8, 8), (9, 9)),\n",
        "    ((8, 8), (9, 9), (0, 0)),\n",
        "    ((9, 9), (0, 0), (1, 1))\n",
        "]\n",
        "\n",
        "# Create a set to store unique line segments\n",
        "unique_segments = set()\n",
        "\n",
        "# Iterate over each triplet and extract line segments\n",
        "for triplet in triplets:\n",
        "    # Extract line segments from the triplet\n",
        "    segments = [(triplet[i], triplet[i + 1]) for i in range(len(triplet) - 1)]\n",
        "    segments.append((triplet[-1], triplet[0]))  # Close the loop\n",
        "\n",
        "    # Add line segments to the set of unique line segments\n",
        "    unique_segments.update(segments)\n",
        "\n",
        "print(unique_segments)"
      ]
    },
    {
      "cell_type": "markdown",
      "id": "a76c55a2",
      "metadata": {
        "id": "a76c55a2"
      },
      "source": [
        "#### 74. Given a sorted array C that corresponds to a bincount, how to produce an array A such that np.bincount(A) == C? (★★★)"
      ]
    },
    {
      "cell_type": "code",
      "execution_count": 307,
      "id": "2d2ae65a",
      "metadata": {
        "id": "2d2ae65a",
        "colab": {
          "base_uri": "https://localhost:8080/"
        },
        "outputId": "580a10ef-255f-4e00-a318-d427b53c6a07"
      },
      "outputs": [
        {
          "output_type": "stream",
          "name": "stdout",
          "text": [
            "[1 2 2 3 3 3 4 4 4 4 5 5 5 5 5]\n"
          ]
        }
      ],
      "source": [
        "# Example sorted array C (bincount)\n",
        "C = np.array([0, 1, 2, 3, 4, 5])\n",
        "\n",
        "# Compute the range of values based on the length of C\n",
        "max_value = len(C) - 1\n",
        "\n",
        "# Create the array A\n",
        "A = np.repeat(np.arange(max_value + 1), C)\n",
        "\n",
        "print(A)"
      ]
    },
    {
      "cell_type": "markdown",
      "id": "d550c8e2",
      "metadata": {
        "id": "d550c8e2"
      },
      "source": [
        "#### 75. How to compute averages using a sliding window over an array? (★★★)"
      ]
    },
    {
      "cell_type": "code",
      "execution_count": 308,
      "id": "841c457c",
      "metadata": {
        "id": "841c457c",
        "colab": {
          "base_uri": "https://localhost:8080/"
        },
        "outputId": "b9f00936-6b26-407e-cb33-6f565888bf5c"
      },
      "outputs": [
        {
          "output_type": "stream",
          "name": "stdout",
          "text": [
            "[2. 3. 4. 5. 6. 7. 8. 9.]\n"
          ]
        }
      ],
      "source": [
        "def sliding_window_average(arr, window_size):\n",
        "    # Define the kernel for computing the sliding window average\n",
        "    kernel = np.ones(window_size) / window_size\n",
        "\n",
        "    # Use np.convolve to compute the sliding window average\n",
        "    averages = np.convolve(arr, kernel, mode='valid')\n",
        "\n",
        "    return averages\n",
        "\n",
        "# Example array\n",
        "arr = np.array([1, 2, 3, 4, 5, 6, 7, 8, 9, 10])\n",
        "\n",
        "# Sliding window size\n",
        "window_size = 3\n",
        "\n",
        "# Compute sliding window averages\n",
        "averages = sliding_window_average(arr, window_size)\n",
        "\n",
        "print(averages)"
      ]
    },
    {
      "cell_type": "markdown",
      "id": "6b170b00",
      "metadata": {
        "id": "6b170b00"
      },
      "source": [
        "#### 76. Consider a one-dimensional array Z, build a two-dimensional array whose first row is (Z[0],Z[1],Z[2]) and each subsequent row is  shifted by 1 (last row should be (Z[-3],Z[-2],Z[-1]) (★★★)"
      ]
    },
    {
      "cell_type": "code",
      "execution_count": 309,
      "id": "d9a0cf4e",
      "metadata": {
        "id": "d9a0cf4e",
        "colab": {
          "base_uri": "https://localhost:8080/"
        },
        "outputId": "6e2dfad4-9a4a-4372-bd83-a7731b8f958a"
      },
      "outputs": [
        {
          "output_type": "stream",
          "name": "stdout",
          "text": [
            "[[1 2 3]\n",
            " [2 3 4]\n",
            " [3 4 5]\n",
            " [4 5 6]]\n"
          ]
        }
      ],
      "source": [
        "# Example one-dimensional array Z\n",
        "Z = np.array([1, 2, 3, 4, 5, 6])\n",
        "\n",
        "# Build the two-dimensional array\n",
        "n = 3  # Number of elements per row\n",
        "rows = len(Z) - n + 1  # Number of rows\n",
        "result = np.vstack([Z[i:i+n] for i in range(rows)])\n",
        "\n",
        "print(result)"
      ]
    },
    {
      "cell_type": "markdown",
      "id": "e94a5c1d",
      "metadata": {
        "id": "e94a5c1d"
      },
      "source": [
        "#### 77. How to negate a boolean, or to change the sign of a float inplace? (★★★)"
      ]
    },
    {
      "cell_type": "code",
      "execution_count": 310,
      "id": "c0f9504f",
      "metadata": {
        "id": "c0f9504f",
        "colab": {
          "base_uri": "https://localhost:8080/"
        },
        "outputId": "01e82a61-528a-411a-d9bb-bf4ae594392e"
      },
      "outputs": [
        {
          "output_type": "stream",
          "name": "stdout",
          "text": [
            "False\n"
          ]
        }
      ],
      "source": [
        "# Example boolean variable\n",
        "boolean_var = True\n",
        "\n",
        "\n",
        "print(not boolean_var)  # False"
      ]
    },
    {
      "cell_type": "markdown",
      "id": "4eb8b5c1",
      "metadata": {
        "id": "4eb8b5c1"
      },
      "source": [
        "#### 78. Consider 2 sets of points P0,P1 describing lines (2d) and a point p, how to compute distance from p to each line i (P0[i],P1[i])? (★★★)"
      ]
    },
    {
      "cell_type": "code",
      "execution_count": 311,
      "id": "487f47ec",
      "metadata": {
        "id": "487f47ec",
        "colab": {
          "base_uri": "https://localhost:8080/"
        },
        "outputId": "db435a0d-7f79-4f1d-db27-ea88e1fa8c1c"
      },
      "outputs": [
        {
          "output_type": "stream",
          "name": "stdout",
          "text": [
            "[0.0, 1.0, 2.0]\n"
          ]
        }
      ],
      "source": [
        "# Example sets of points P0 and P1 describing lines\n",
        "P0 = np.array([[0, 0], [1, 1], [2, 2]])\n",
        "P1 = np.array([[1, 0], [2, 1], [3, 2]])\n",
        "\n",
        "# Example point p\n",
        "p = np.array([1, 0])\n",
        "\n",
        "# Compute distance from p to each line\n",
        "distances = [np.linalg.norm(np.cross(p - p0, p1 - p0)) / np.linalg.norm(p1 - p0) for p0, p1 in zip(P0, P1)]\n",
        "\n",
        "print(distances)"
      ]
    },
    {
      "cell_type": "markdown",
      "id": "3df99948",
      "metadata": {
        "id": "3df99948"
      },
      "source": [
        "#### 79. Consider 2 sets of points P0,P1 describing lines (2d) and a set of points P, how to compute distance from each point j (P[j]) to each line i (P0[i],P1[i])? (★★★)"
      ]
    },
    {
      "cell_type": "code",
      "execution_count": 312,
      "id": "dc2df37b",
      "metadata": {
        "id": "dc2df37b",
        "colab": {
          "base_uri": "https://localhost:8080/"
        },
        "outputId": "05df5557-e373-4ba6-b81c-87d95b89fdcc"
      },
      "outputs": [
        {
          "output_type": "stream",
          "name": "stdout",
          "text": [
            "[[1.0, 0.0, 1.0], [2.0, 1.0, 0.0], [3.0, 2.0, 1.0]]\n"
          ]
        }
      ],
      "source": [
        "# Example sets of points P0 and P1 describing lines\n",
        "P0 = np.array([[0, 0], [1, 1], [2, 2]])\n",
        "P1 = np.array([[1, 0], [2, 1], [3, 2]])\n",
        "\n",
        "# Example set of points P\n",
        "P = np.array([[1, 1], [2, 2], [3, 3]])\n",
        "\n",
        "# Compute distance from each point in P to each line\n",
        "distances = [[np.linalg.norm(np.cross(P[j] - P0[i], P1[i] - P0[i])) / np.linalg.norm(P1[i] - P0[i]) for i in range(len(P0))] for j in range(len(P))]\n",
        "\n",
        "print(distances)"
      ]
    },
    {
      "cell_type": "markdown",
      "id": "11e972c2",
      "metadata": {
        "id": "11e972c2"
      },
      "source": [
        "#### 80. Consider an arbitrary array, write a function that extract a subpart with a fixed shape and centered on a given element (pad with a `fill` value when necessary) (★★★)"
      ]
    },
    {
      "cell_type": "code",
      "execution_count": 313,
      "id": "0291247f",
      "metadata": {
        "id": "0291247f",
        "colab": {
          "base_uri": "https://localhost:8080/"
        },
        "outputId": "b6e19718-b99e-4ec9-8f66-081399d6e866"
      },
      "outputs": [
        {
          "output_type": "stream",
          "name": "stdout",
          "text": [
            "[[ 0  1  2]\n",
            " [ 5  6  7]\n",
            " [10 11 12]]\n"
          ]
        }
      ],
      "source": [
        "def extract_subpart(arr, shape, center, fill_value=0):\n",
        "    pad_width = [(max(0, center[i] - shape[i] // 2), max(0, (shape[i] + 1) // 2 - (arr.shape[i] - center[i]))) for i in range(arr.ndim)]\n",
        "    return np.pad(arr, pad_width, mode='constant', constant_values=fill_value)[tuple(slice(max(0, center[i] - shape[i] // 2), min(arr.shape[i], center[i] + (shape[i] + 1) // 2)) for i in range(arr.ndim))]\n",
        "\n",
        "# Example usage:\n",
        "arr = np.arange(25).reshape(5, 5)\n",
        "subpart = extract_subpart(arr, (3, 3), (2, 2))\n",
        "print(subpart)"
      ]
    },
    {
      "cell_type": "markdown",
      "id": "93cfeab3",
      "metadata": {
        "id": "93cfeab3"
      },
      "source": [
        "#### 81. Consider an array Z = [1,2,3,4,5,6,7,8,9,10,11,12,13,14], how to generate an array R = [[1,2,3,4], [2,3,4,5], [3,4,5,6], ..., [11,12,13,14]]? (★★★)"
      ]
    },
    {
      "cell_type": "code",
      "execution_count": 314,
      "id": "360de791",
      "metadata": {
        "id": "360de791",
        "colab": {
          "base_uri": "https://localhost:8080/"
        },
        "outputId": "47983d61-a5e0-4f0b-f0cb-da8fc715f831"
      },
      "outputs": [
        {
          "output_type": "stream",
          "name": "stdout",
          "text": [
            "[array([1, 2, 3, 4]), array([2, 3, 4, 5]), array([3, 4, 5, 6]), array([4, 5, 6, 7]), array([5, 6, 7, 8]), array([6, 7, 8, 9]), array([ 7,  8,  9, 10]), array([ 8,  9, 10, 11]), array([ 9, 10, 11, 12]), array([10, 11, 12, 13]), array([11, 12, 13, 14])]\n"
          ]
        }
      ],
      "source": [
        "# Original array Z\n",
        "Z = np.array([1, 2, 3, 4, 5, 6, 7, 8, 9, 10, 11, 12, 13, 14])\n",
        "\n",
        "# Generate array R\n",
        "R = [Z[i:i+4] for i in range(len(Z) - 3)]\n",
        "\n",
        "print(R)"
      ]
    },
    {
      "cell_type": "markdown",
      "id": "4c15ceff",
      "metadata": {
        "id": "4c15ceff"
      },
      "source": [
        "#### 82. Compute a matrix rank (★★★)"
      ]
    },
    {
      "cell_type": "code",
      "execution_count": 315,
      "id": "9a4272d2",
      "metadata": {
        "id": "9a4272d2",
        "colab": {
          "base_uri": "https://localhost:8080/"
        },
        "outputId": "21c61d33-2832-4f77-c0c1-10c9a27ce15e"
      },
      "outputs": [
        {
          "output_type": "stream",
          "name": "stdout",
          "text": [
            "Rank of the matrix: 2\n"
          ]
        }
      ],
      "source": [
        "# Example matrix\n",
        "matrix = np.array([[1, 2, 3],\n",
        "                   [4, 5, 6],\n",
        "                   [7, 8, 9]])\n",
        "\n",
        "# Compute the rank of the matrix\n",
        "rank = np.linalg.matrix_rank(matrix)\n",
        "\n",
        "print(\"Rank of the matrix:\", rank)"
      ]
    },
    {
      "cell_type": "markdown",
      "id": "1171cb84",
      "metadata": {
        "id": "1171cb84"
      },
      "source": [
        "#### 83. How to find the most frequent value in an array?"
      ]
    },
    {
      "cell_type": "code",
      "execution_count": 316,
      "id": "33e951c8",
      "metadata": {
        "id": "33e951c8",
        "colab": {
          "base_uri": "https://localhost:8080/"
        },
        "outputId": "b4b28b53-1dc2-4bfc-c50b-d7a46bde856b"
      },
      "outputs": [
        {
          "output_type": "stream",
          "name": "stdout",
          "text": [
            "Most frequent value: 2\n"
          ]
        }
      ],
      "source": [
        "# Example array\n",
        "arr = np.array([1, 2, 3, 4, 1, 2, 2, 3, 2, 2, 2])\n",
        "\n",
        "# Find the most frequent value\n",
        "most_frequent_value = np.argmax(np.bincount(arr))\n",
        "\n",
        "print(\"Most frequent value:\", most_frequent_value)"
      ]
    },
    {
      "cell_type": "markdown",
      "id": "04f472aa",
      "metadata": {
        "id": "04f472aa"
      },
      "source": [
        "#### 84. Extract all the contiguous 3x3 blocks from a random 10x10 matrix (★★★)"
      ]
    },
    {
      "cell_type": "code",
      "execution_count": 317,
      "id": "7aade14a",
      "metadata": {
        "id": "7aade14a",
        "colab": {
          "base_uri": "https://localhost:8080/"
        },
        "outputId": "218f2630-2296-4b4e-c930-8284b2785f7e"
      },
      "outputs": [
        {
          "output_type": "stream",
          "name": "stdout",
          "text": [
            "[[98 21 98]\n",
            " [46 14 90]\n",
            " [35  6 72]]\n",
            "\n",
            "[[21 98 41]\n",
            " [14 90 82]\n",
            " [ 6 72 38]]\n",
            "\n",
            "[[98 41 18]\n",
            " [90 82 17]\n",
            " [72 38 36]]\n",
            "\n",
            "[[41 18  1]\n",
            " [82 17 64]\n",
            " [38 36 35]]\n",
            "\n",
            "[[18  1 62]\n",
            " [17 64 36]\n",
            " [36 35 77]]\n",
            "\n",
            "[[ 1 62 16]\n",
            " [64 36 57]\n",
            " [35 77 25]]\n",
            "\n",
            "[[62 16 90]\n",
            " [36 57 35]\n",
            " [77 25 55]]\n",
            "\n",
            "[[16 90 90]\n",
            " [57 35 54]\n",
            " [25 55 73]]\n",
            "\n",
            "[[46 14 90]\n",
            " [35  6 72]\n",
            " [40 29 79]]\n",
            "\n",
            "[[14 90 82]\n",
            " [ 6 72 38]\n",
            " [29 79 32]]\n",
            "\n",
            "[[90 82 17]\n",
            " [72 38 36]\n",
            " [79 32 49]]\n",
            "\n",
            "[[82 17 64]\n",
            " [38 36 35]\n",
            " [32 49 68]]\n",
            "\n",
            "[[17 64 36]\n",
            " [36 35 77]\n",
            " [49 68 29]]\n",
            "\n",
            "[[64 36 57]\n",
            " [35 77 25]\n",
            " [68 29 50]]\n",
            "\n",
            "[[36 57 35]\n",
            " [77 25 55]\n",
            " [29 50 30]]\n",
            "\n",
            "[[57 35 54]\n",
            " [25 55 73]\n",
            " [50 30  2]]\n",
            "\n",
            "[[35  6 72]\n",
            " [40 29 79]\n",
            " [42 88 98]]\n",
            "\n",
            "[[ 6 72 38]\n",
            " [29 79 32]\n",
            " [88 98 93]]\n",
            "\n",
            "[[72 38 36]\n",
            " [79 32 49]\n",
            " [98 93 62]]\n",
            "\n",
            "[[38 36 35]\n",
            " [32 49 68]\n",
            " [93 62 82]]\n",
            "\n",
            "[[36 35 77]\n",
            " [49 68 29]\n",
            " [62 82  8]]\n",
            "\n",
            "[[35 77 25]\n",
            " [68 29 50]\n",
            " [82  8 69]]\n",
            "\n",
            "[[77 25 55]\n",
            " [29 50 30]\n",
            " [ 8 69 25]]\n",
            "\n",
            "[[25 55 73]\n",
            " [50 30  2]\n",
            " [69 25 38]]\n",
            "\n",
            "[[40 29 79]\n",
            " [42 88 98]\n",
            " [29 66 91]]\n",
            "\n",
            "[[29 79 32]\n",
            " [88 98 93]\n",
            " [66 91 45]]\n",
            "\n",
            "[[79 32 49]\n",
            " [98 93 62]\n",
            " [91 45 71]]\n",
            "\n",
            "[[32 49 68]\n",
            " [93 62 82]\n",
            " [45 71 85]]\n",
            "\n",
            "[[49 68 29]\n",
            " [62 82  8]\n",
            " [71 85 29]]\n",
            "\n",
            "[[68 29 50]\n",
            " [82  8 69]\n",
            " [85 29 82]]\n",
            "\n",
            "[[29 50 30]\n",
            " [ 8 69 25]\n",
            " [29 82  6]]\n",
            "\n",
            "[[50 30  2]\n",
            " [69 25 38]\n",
            " [82  6 15]]\n",
            "\n",
            "[[42 88 98]\n",
            " [29 66 91]\n",
            " [44 48 73]]\n",
            "\n",
            "[[88 98 93]\n",
            " [66 91 45]\n",
            " [48 73 46]]\n",
            "\n",
            "[[98 93 62]\n",
            " [91 45 71]\n",
            " [73 46 23]]\n",
            "\n",
            "[[93 62 82]\n",
            " [45 71 85]\n",
            " [46 23 46]]\n",
            "\n",
            "[[62 82  8]\n",
            " [71 85 29]\n",
            " [23 46 86]]\n",
            "\n",
            "[[82  8 69]\n",
            " [85 29 82]\n",
            " [46 86 64]]\n",
            "\n",
            "[[ 8 69 25]\n",
            " [29 82  6]\n",
            " [86 64 22]]\n",
            "\n",
            "[[69 25 38]\n",
            " [82  6 15]\n",
            " [64 22 76]]\n",
            "\n",
            "[[29 66 91]\n",
            " [44 48 73]\n",
            " [95 60 58]]\n",
            "\n",
            "[[66 91 45]\n",
            " [48 73 46]\n",
            " [60 58 42]]\n",
            "\n",
            "[[91 45 71]\n",
            " [73 46 23]\n",
            " [58 42 18]]\n",
            "\n",
            "[[45 71 85]\n",
            " [46 23 46]\n",
            " [42 18 48]]\n",
            "\n",
            "[[71 85 29]\n",
            " [23 46 86]\n",
            " [18 48 61]]\n",
            "\n",
            "[[85 29 82]\n",
            " [46 86 64]\n",
            " [48 61 53]]\n",
            "\n",
            "[[29 82  6]\n",
            " [86 64 22]\n",
            " [61 53  5]]\n",
            "\n",
            "[[82  6 15]\n",
            " [64 22 76]\n",
            " [53  5 18]]\n",
            "\n",
            "[[44 48 73]\n",
            " [95 60 58]\n",
            " [95 60 53]]\n",
            "\n",
            "[[48 73 46]\n",
            " [60 58 42]\n",
            " [60 53 48]]\n",
            "\n",
            "[[73 46 23]\n",
            " [58 42 18]\n",
            " [53 48 94]]\n",
            "\n",
            "[[46 23 46]\n",
            " [42 18 48]\n",
            " [48 94 75]]\n",
            "\n",
            "[[23 46 86]\n",
            " [18 48 61]\n",
            " [94 75 30]]\n",
            "\n",
            "[[46 86 64]\n",
            " [48 61 53]\n",
            " [75 30 38]]\n",
            "\n",
            "[[86 64 22]\n",
            " [61 53  5]\n",
            " [30 38 88]]\n",
            "\n",
            "[[64 22 76]\n",
            " [53  5 18]\n",
            " [38 88 15]]\n",
            "\n",
            "[[95 60 58]\n",
            " [95 60 53]\n",
            " [79 80  8]]\n",
            "\n",
            "[[60 58 42]\n",
            " [60 53 48]\n",
            " [80  8 77]]\n",
            "\n",
            "[[58 42 18]\n",
            " [53 48 94]\n",
            " [ 8 77 93]]\n",
            "\n",
            "[[42 18 48]\n",
            " [48 94 75]\n",
            " [77 93 38]]\n",
            "\n",
            "[[18 48 61]\n",
            " [94 75 30]\n",
            " [93 38  3]]\n",
            "\n",
            "[[48 61 53]\n",
            " [75 30 38]\n",
            " [38  3  6]]\n",
            "\n",
            "[[61 53  5]\n",
            " [30 38 88]\n",
            " [ 3  6 93]]\n",
            "\n",
            "[[53  5 18]\n",
            " [38 88 15]\n",
            " [ 6 93 89]]\n",
            "\n"
          ]
        }
      ],
      "source": [
        "# Generate a random 10x10 matrix\n",
        "matrix = np.random.randint(0, 100, size=(10, 10))\n",
        "\n",
        "# Extract all contiguous 3x3 blocks\n",
        "blocks = [matrix[i:i+3, j:j+3] for i in range(8) for j in range(8)]\n",
        "\n",
        "# Print the extracted blocks\n",
        "for block in blocks:\n",
        "    print(block)\n",
        "    print()"
      ]
    },
    {
      "cell_type": "markdown",
      "id": "158f9945",
      "metadata": {
        "id": "158f9945"
      },
      "source": [
        "#### 87. Consider a 16x16 array, how to get the block-sum (block size is 4x4)? (★★★)"
      ]
    },
    {
      "cell_type": "code",
      "execution_count": 318,
      "id": "5a9b808f",
      "metadata": {
        "id": "5a9b808f",
        "colab": {
          "base_uri": "https://localhost:8080/"
        },
        "outputId": "94830abd-79fd-4579-a232-e70d096caf40"
      },
      "outputs": [
        {
          "output_type": "stream",
          "name": "stdout",
          "text": [
            "[[47 78 68 63]\n",
            " [62 91 75 78]\n",
            " [56 85 69 75]\n",
            " [74 62 97 71]]\n"
          ]
        }
      ],
      "source": [
        "# Example 16x16 array\n",
        "array = np.random.randint(0, 10, size=(16, 16))\n",
        "\n",
        "# Define block size\n",
        "block_size = 4\n",
        "\n",
        "# Compute block sum\n",
        "block_sum = np.zeros((16 // block_size, 16 // block_size), dtype=array.dtype)\n",
        "for i in range(0, 16, block_size):\n",
        "    for j in range(0, 16, block_size):\n",
        "        block_sum[i // block_size, j // block_size] = np.sum(array[i:i+block_size, j:j+block_size])\n",
        "\n",
        "print(block_sum)"
      ]
    },
    {
      "cell_type": "markdown",
      "id": "69a892fa",
      "metadata": {
        "id": "69a892fa"
      },
      "source": [
        "#### 89. How to get the n largest values of an array (★★★)"
      ]
    },
    {
      "cell_type": "code",
      "execution_count": 319,
      "id": "21b2bd48",
      "metadata": {
        "id": "21b2bd48",
        "colab": {
          "base_uri": "https://localhost:8080/"
        },
        "outputId": "78117d26-ecde-4227-b256-84ffe3abeafc"
      },
      "outputs": [
        {
          "output_type": "stream",
          "name": "stdout",
          "text": [
            "Indices of the n largest values: [3 8 5]\n",
            "The n largest values: [7 8 9]\n"
          ]
        }
      ],
      "source": [
        "# Example array\n",
        "arr = np.array([1, 5, 2, 7, 3, 9, 4, 6, 8])\n",
        "\n",
        "# Number of largest values to retrieve\n",
        "n_largest = 3\n",
        "\n",
        "# Get the indices of the n largest values\n",
        "indices = np.argsort(arr)[-n_largest:]\n",
        "\n",
        "# Get the n largest values\n",
        "largest_values = arr[indices]\n",
        "\n",
        "print(\"Indices of the n largest values:\", indices)\n",
        "print(\"The n largest values:\", largest_values)"
      ]
    },
    {
      "cell_type": "markdown",
      "id": "b55ccacc",
      "metadata": {
        "id": "b55ccacc"
      },
      "source": [
        "#### 90. Given an arbitrary number of vectors, build the cartesian product (every combinations of every item) (★★★)"
      ]
    },
    {
      "cell_type": "code",
      "execution_count": 320,
      "id": "4b645da4",
      "metadata": {
        "id": "4b645da4",
        "colab": {
          "base_uri": "https://localhost:8080/"
        },
        "outputId": "d8f8e173-5657-4d61-bbaa-6e9118302094"
      },
      "outputs": [
        {
          "output_type": "stream",
          "name": "stdout",
          "text": [
            "[(1, 3, 5), (1, 3, 6), (1, 4, 5), (1, 4, 6), (2, 3, 5), (2, 3, 6), (2, 4, 5), (2, 4, 6)]\n"
          ]
        }
      ],
      "source": [
        "import itertools\n",
        "\n",
        "# Example vectors\n",
        "vectors = [[1, 2], [3, 4], [5, 6]]\n",
        "\n",
        "# Build the Cartesian product\n",
        "cartesian_product = list(itertools.product(*vectors))\n",
        "\n",
        "print(cartesian_product)"
      ]
    },
    {
      "cell_type": "markdown",
      "id": "89187a23",
      "metadata": {
        "id": "89187a23"
      },
      "source": [
        "#### 91. How to create a record array from a regular array? (★★★)"
      ]
    },
    {
      "cell_type": "code",
      "execution_count": 321,
      "id": "da94c71a",
      "metadata": {
        "id": "da94c71a",
        "colab": {
          "base_uri": "https://localhost:8080/"
        },
        "outputId": "71ad287e-880a-40c5-cda3-a82a48e8f7e4"
      },
      "outputs": [
        {
          "output_type": "stream",
          "name": "stdout",
          "text": [
            "[(1, 3, 5), (1, 3, 6), (1, 4, 5), (1, 4, 6), (2, 3, 5), (2, 3, 6), (2, 4, 5), (2, 4, 6)]\n"
          ]
        }
      ],
      "source": [
        "# Example vectors\n",
        "vectors = [[1, 2], [3, 4], [5, 6]]\n",
        "\n",
        "# Build the Cartesian product\n",
        "cartesian_product = list(itertools.product(*vectors))\n",
        "\n",
        "print(cartesian_product)"
      ]
    },
    {
      "cell_type": "markdown",
      "id": "aa70d4ca",
      "metadata": {
        "id": "aa70d4ca"
      },
      "source": [
        "#### 92. Consider a large vector Z, compute Z to the power of 3 using 3 different methods (★★★)"
      ]
    },
    {
      "cell_type": "code",
      "execution_count": 322,
      "id": "7cff1bf5",
      "metadata": {
        "id": "7cff1bf5"
      },
      "outputs": [],
      "source": [
        "# Method 1: Using np.power()\n",
        "Z_cubed_method1 = np.power(Z, 3)"
      ]
    },
    {
      "cell_type": "code",
      "source": [
        "# Method 2: Using the exponentiation operator **\n",
        "Z_cubed_method2 = Z ** 3"
      ],
      "metadata": {
        "id": "ktR9Lt1cNzLi"
      },
      "id": "ktR9Lt1cNzLi",
      "execution_count": 323,
      "outputs": []
    },
    {
      "cell_type": "code",
      "source": [
        "# Method 3: Using element-wise multiplication\n",
        "Z_cubed_method3 = Z * Z * Z"
      ],
      "metadata": {
        "id": "AeTG0IuFN2NL"
      },
      "id": "AeTG0IuFN2NL",
      "execution_count": 324,
      "outputs": []
    },
    {
      "cell_type": "markdown",
      "id": "a80570cd",
      "metadata": {
        "id": "a80570cd"
      },
      "source": [
        "#### 94. Considering a 10x3 matrix, extract rows with unequal values (e.g. [2,2,3]) (★★★)"
      ]
    },
    {
      "cell_type": "code",
      "execution_count": 325,
      "id": "84db8de1",
      "metadata": {
        "id": "84db8de1",
        "colab": {
          "base_uri": "https://localhost:8080/"
        },
        "outputId": "b6c7e4bf-f1cc-48a7-c408-971e3f5aa240"
      },
      "outputs": [
        {
          "output_type": "stream",
          "name": "stdout",
          "text": [
            "[[2 0 1]\n",
            " [2 1 1]\n",
            " [1 2 0]\n",
            " [2 0 2]\n",
            " [2 1 2]\n",
            " [1 2 2]\n",
            " [0 1 0]]\n"
          ]
        }
      ],
      "source": [
        "import numpy as np\n",
        "\n",
        "# Example 10x3 matrix\n",
        "matrix = np.random.randint(0, 3, size=(10, 3))\n",
        "\n",
        "# Extract rows with unequal values\n",
        "unequal_rows = matrix[np.any(matrix != matrix[:, 0][:, None], axis=1)]\n",
        "\n",
        "print(unequal_rows)"
      ]
    },
    {
      "cell_type": "markdown",
      "id": "420e2343",
      "metadata": {
        "id": "420e2343"
      },
      "source": [
        "#### 96. Given a two dimensional array, how to extract unique rows? (★★★)"
      ]
    },
    {
      "cell_type": "code",
      "execution_count": 326,
      "id": "4680dfd0",
      "metadata": {
        "id": "4680dfd0",
        "colab": {
          "base_uri": "https://localhost:8080/"
        },
        "outputId": "dec4d0dd-4325-4f2e-e9bf-c4d19207d831"
      },
      "outputs": [
        {
          "output_type": "stream",
          "name": "stdout",
          "text": [
            "[[1 2 3]\n",
            " [4 5 6]\n",
            " [7 8 9]]\n"
          ]
        }
      ],
      "source": [
        "# Example two-dimensional array\n",
        "array = np.array([[1, 2, 3],\n",
        "                  [4, 5, 6],\n",
        "                  [1, 2, 3],\n",
        "                  [7, 8, 9],\n",
        "                  [4, 5, 6]])\n",
        "\n",
        "# Extract unique rows\n",
        "unique_rows = np.unique(array, axis=0)\n",
        "\n",
        "print(unique_rows)"
      ]
    },
    {
      "cell_type": "markdown",
      "id": "7ad5cc5f",
      "metadata": {
        "id": "7ad5cc5f"
      },
      "source": [
        "#### 98. Considering a path described by two vectors (X,Y), how to sample it using equidistant samples (★★★)?"
      ]
    },
    {
      "cell_type": "code",
      "execution_count": 327,
      "id": "0899d1d5",
      "metadata": {
        "id": "0899d1d5",
        "colab": {
          "base_uri": "https://localhost:8080/"
        },
        "outputId": "85b8721f-d24d-4cfc-9b83-8c90de165ff9"
      },
      "outputs": [
        {
          "output_type": "stream",
          "name": "stdout",
          "text": [
            "Equidistant samples X: [ 0.          0.31941116  0.63882231  0.95823347  1.34437578  1.74055656\n",
            "  2.13673734  2.53291812  2.9290989   3.48791953  4.0821907   4.67646187\n",
            "  5.27073305  5.86500422  6.53549957  7.22839966  7.92129974  8.61419983\n",
            "  9.30709991 10.        ]\n",
            "Equidistant samples Y: [0.         0.63882231 1.27764463 1.91646694 2.51656367 3.11083484\n",
            " 3.70510601 4.29937719 4.89364836 5.32527969 5.72146047 6.11764125\n",
            " 6.51382203 6.91000281 7.13387489 7.30709991 7.48032494 7.65354996\n",
            " 7.82677498 8.        ]\n"
          ]
        }
      ],
      "source": [
        "def equidistant_samples(X, Y, num_samples):\n",
        "    # Calculate the cumulative distance along the path\n",
        "    cumulative_distance = np.cumsum(np.sqrt(np.diff(X)**2 + np.diff(Y)**2))\n",
        "    cumulative_distance = np.insert(cumulative_distance, 0, 0)  # Insert 0 at the beginning\n",
        "\n",
        "    # Interpolate the path\n",
        "    t_interpolated = np.linspace(0, cumulative_distance[-1], num_samples)\n",
        "    X_interpolated = np.interp(t_interpolated, cumulative_distance, X)\n",
        "    Y_interpolated = np.interp(t_interpolated, cumulative_distance, Y)\n",
        "\n",
        "    return X_interpolated, Y_interpolated\n",
        "\n",
        "# Example path described by two vectors X and Y\n",
        "X = np.array([0, 1, 3, 6, 10])\n",
        "Y = np.array([0, 2, 5, 7, 8])\n",
        "\n",
        "# Number of equidistant samples\n",
        "num_samples = 20\n",
        "\n",
        "# Sample the path using equidistant samples\n",
        "X_samples, Y_samples = equidistant_samples(X, Y, num_samples)\n",
        "\n",
        "print(\"Equidistant samples X:\", X_samples)\n",
        "print(\"Equidistant samples Y:\", Y_samples)"
      ]
    },
    {
      "cell_type": "markdown",
      "id": "2b69272e",
      "metadata": {
        "id": "2b69272e"
      },
      "source": [
        "#### 99. Given an integer n and a 2D array X, select from X the rows which can be interpreted as draws from a multinomial distribution with n degrees, i.e., the rows which only contain integers and which sum to n. (★★★)"
      ]
    },
    {
      "cell_type": "code",
      "execution_count": 328,
      "id": "55c8b034",
      "metadata": {
        "id": "55c8b034",
        "colab": {
          "base_uri": "https://localhost:8080/"
        },
        "outputId": "4d9bc891-c9f7-4769-babc-32117400a094"
      },
      "outputs": [
        {
          "output_type": "stream",
          "name": "stdout",
          "text": [
            "Selected rows:\n",
            "[[1. 2. 3.]]\n"
          ]
        }
      ],
      "source": [
        "def select_multinomial_draws(X, n):\n",
        "    return X[(np.all(np.equal(np.mod(X, 1), 0), axis=1)) & (np.sum(X, axis=1) == n)]\n",
        "\n",
        "# Example 2D array X\n",
        "X = np.array([[1, 2, 3],\n",
        "              [2, 3, 5],\n",
        "              [1, 1.5, 2.5],\n",
        "              [3, 4, 5]])\n",
        "\n",
        "# Integer n\n",
        "n = 6\n",
        "\n",
        "# Select rows representing multinomial draws with n degrees\n",
        "selected_rows = select_multinomial_draws(X, n)\n",
        "\n",
        "print(\"Selected rows:\")\n",
        "print(selected_rows)"
      ]
    },
    {
      "cell_type": "markdown",
      "id": "59ab5516",
      "metadata": {
        "id": "59ab5516"
      },
      "source": [
        "#### 100. Compute bootstrapped 95% confidence intervals for the mean of a 1D array X (i.e., resample the elements of an array with replacement N times, compute the mean of each sample, and then compute percentiles over the means). (★★★)"
      ]
    },
    {
      "cell_type": "code",
      "execution_count": 329,
      "id": "450877d8",
      "metadata": {
        "id": "450877d8",
        "colab": {
          "base_uri": "https://localhost:8080/"
        },
        "outputId": "82b6c115-4a68-4c3e-bc85-3be3229ebd3a"
      },
      "outputs": [
        {
          "output_type": "stream",
          "name": "stdout",
          "text": [
            "95% confidence interval for the mean of X: (9.677712816189157, 10.472011100597152)\n"
          ]
        }
      ],
      "source": [
        "def bootstrap_confidence_interval(X, num_samples=1000, alpha=0.05):\n",
        "    # Resample with replacement and compute means\n",
        "    means = np.random.choice(X, size=(num_samples, len(X)), replace=True).mean(axis=1)\n",
        "\n",
        "    # Compute percentiles for confidence interval\n",
        "    lower_bound, upper_bound = np.percentile(means, [100 * (alpha / 2), 100 * (1 - alpha / 2)])\n",
        "    return lower_bound, upper_bound\n",
        "\n",
        "# Example 1D array X\n",
        "X = np.random.normal(loc=10, scale=2, size=100)\n",
        "\n",
        "# Compute bootstrapped 95% confidence interval for the mean of X\n",
        "lower_bound, upper_bound = bootstrap_confidence_interval(X)\n",
        "\n",
        "print(\"95% confidence interval for the mean of X:\", (lower_bound, upper_bound))"
      ]
    }
  ],
  "metadata": {
    "colab": {
      "provenance": [],
      "include_colab_link": true
    },
    "language_info": {
      "name": "python"
    },
    "kernelspec": {
      "name": "python3",
      "display_name": "Python 3"
    }
  },
  "nbformat": 4,
  "nbformat_minor": 5
}