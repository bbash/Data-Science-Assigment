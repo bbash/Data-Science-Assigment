{
  "cells": [
    {
      "cell_type": "markdown",
      "metadata": {
        "id": "view-in-github",
        "colab_type": "text"
      },
      "source": [
        "<a href=\"https://colab.research.google.com/github/bbash/Data-Science-Assigment/blob/main/Data_Preparation.ipynb\" target=\"_parent\"><img src=\"https://colab.research.google.com/assets/colab-badge.svg\" alt=\"Open In Colab\"/></a>"
      ]
    },
    {
      "cell_type": "code",
      "execution_count": 1,
      "id": "b1e05434",
      "metadata": {
        "id": "b1e05434"
      },
      "outputs": [],
      "source": [
        "# import libraries\n",
        "import numpy as np\n",
        "import pandas as pd\n",
        "import matplotlib.pyplot as plt"
      ]
    },
    {
      "cell_type": "code",
      "execution_count": 2,
      "metadata": {
        "id": "c-AHE26YktzQ"
      },
      "outputs": [],
      "source": [
        "#loading the dataset\n",
        "data = pd.read_csv('birds.csv')\n"
      ],
      "id": "c-AHE26YktzQ"
    },
    {
      "cell_type": "code",
      "source": [
        "# print the first five instances of the datasets\n",
        "data.head()"
      ],
      "metadata": {
        "colab": {
          "base_uri": "https://localhost:8080/",
          "height": 400
        },
        "id": "fAmKSNQFTwsq",
        "outputId": "b94a5854-a251-429d-a99a-323987c139d0"
      },
      "id": "fAmKSNQFTwsq",
      "execution_count": 3,
      "outputs": [
        {
          "output_type": "execute_result",
          "data": {
            "text/plain": [
              "                           Name          ScientificName  \\\n",
              "0  Black-bellied whistling-duck  Dendrocygna autumnalis   \n",
              "1        Fulvous whistling-duck     Dendrocygna bicolor   \n",
              "2                    Snow goose      Anser caerulescens   \n",
              "3                  Ross's goose            Anser rossii   \n",
              "4   Greater white-fronted goose         Anser albifrons   \n",
              "\n",
              "                Category         Order    Family        Genus  \\\n",
              "0  Ducks/Geese/Waterfowl  Anseriformes  Anatidae  Dendrocygna   \n",
              "1  Ducks/Geese/Waterfowl  Anseriformes  Anatidae  Dendrocygna   \n",
              "2  Ducks/Geese/Waterfowl  Anseriformes  Anatidae        Anser   \n",
              "3  Ducks/Geese/Waterfowl  Anseriformes  Anatidae        Anser   \n",
              "4  Ducks/Geese/Waterfowl  Anseriformes  Anatidae        Anser   \n",
              "\n",
              "  ConservationStatus  MinLength  MaxLength  MinBodyMass  MaxBodyMass  \\\n",
              "0                 LC       47.0       56.0        652.0       1020.0   \n",
              "1                 LC       45.0       53.0        712.0       1050.0   \n",
              "2                 LC       64.0       79.0       2050.0       4050.0   \n",
              "3                 LC       57.3       64.0       1066.0       1567.0   \n",
              "4                 LC       64.0       81.0       1930.0       3310.0   \n",
              "\n",
              "   MinWingspan  MaxWingspan  \n",
              "0         76.0         94.0  \n",
              "1         85.0         93.0  \n",
              "2        135.0        165.0  \n",
              "3        113.0        116.0  \n",
              "4        130.0        165.0  "
            ],
            "text/html": [
              "\n",
              "  <div id=\"df-320c1749-b0c7-419a-95a7-059c492852ab\" class=\"colab-df-container\">\n",
              "    <div>\n",
              "<style scoped>\n",
              "    .dataframe tbody tr th:only-of-type {\n",
              "        vertical-align: middle;\n",
              "    }\n",
              "\n",
              "    .dataframe tbody tr th {\n",
              "        vertical-align: top;\n",
              "    }\n",
              "\n",
              "    .dataframe thead th {\n",
              "        text-align: right;\n",
              "    }\n",
              "</style>\n",
              "<table border=\"1\" class=\"dataframe\">\n",
              "  <thead>\n",
              "    <tr style=\"text-align: right;\">\n",
              "      <th></th>\n",
              "      <th>Name</th>\n",
              "      <th>ScientificName</th>\n",
              "      <th>Category</th>\n",
              "      <th>Order</th>\n",
              "      <th>Family</th>\n",
              "      <th>Genus</th>\n",
              "      <th>ConservationStatus</th>\n",
              "      <th>MinLength</th>\n",
              "      <th>MaxLength</th>\n",
              "      <th>MinBodyMass</th>\n",
              "      <th>MaxBodyMass</th>\n",
              "      <th>MinWingspan</th>\n",
              "      <th>MaxWingspan</th>\n",
              "    </tr>\n",
              "  </thead>\n",
              "  <tbody>\n",
              "    <tr>\n",
              "      <th>0</th>\n",
              "      <td>Black-bellied whistling-duck</td>\n",
              "      <td>Dendrocygna autumnalis</td>\n",
              "      <td>Ducks/Geese/Waterfowl</td>\n",
              "      <td>Anseriformes</td>\n",
              "      <td>Anatidae</td>\n",
              "      <td>Dendrocygna</td>\n",
              "      <td>LC</td>\n",
              "      <td>47.0</td>\n",
              "      <td>56.0</td>\n",
              "      <td>652.0</td>\n",
              "      <td>1020.0</td>\n",
              "      <td>76.0</td>\n",
              "      <td>94.0</td>\n",
              "    </tr>\n",
              "    <tr>\n",
              "      <th>1</th>\n",
              "      <td>Fulvous whistling-duck</td>\n",
              "      <td>Dendrocygna bicolor</td>\n",
              "      <td>Ducks/Geese/Waterfowl</td>\n",
              "      <td>Anseriformes</td>\n",
              "      <td>Anatidae</td>\n",
              "      <td>Dendrocygna</td>\n",
              "      <td>LC</td>\n",
              "      <td>45.0</td>\n",
              "      <td>53.0</td>\n",
              "      <td>712.0</td>\n",
              "      <td>1050.0</td>\n",
              "      <td>85.0</td>\n",
              "      <td>93.0</td>\n",
              "    </tr>\n",
              "    <tr>\n",
              "      <th>2</th>\n",
              "      <td>Snow goose</td>\n",
              "      <td>Anser caerulescens</td>\n",
              "      <td>Ducks/Geese/Waterfowl</td>\n",
              "      <td>Anseriformes</td>\n",
              "      <td>Anatidae</td>\n",
              "      <td>Anser</td>\n",
              "      <td>LC</td>\n",
              "      <td>64.0</td>\n",
              "      <td>79.0</td>\n",
              "      <td>2050.0</td>\n",
              "      <td>4050.0</td>\n",
              "      <td>135.0</td>\n",
              "      <td>165.0</td>\n",
              "    </tr>\n",
              "    <tr>\n",
              "      <th>3</th>\n",
              "      <td>Ross's goose</td>\n",
              "      <td>Anser rossii</td>\n",
              "      <td>Ducks/Geese/Waterfowl</td>\n",
              "      <td>Anseriformes</td>\n",
              "      <td>Anatidae</td>\n",
              "      <td>Anser</td>\n",
              "      <td>LC</td>\n",
              "      <td>57.3</td>\n",
              "      <td>64.0</td>\n",
              "      <td>1066.0</td>\n",
              "      <td>1567.0</td>\n",
              "      <td>113.0</td>\n",
              "      <td>116.0</td>\n",
              "    </tr>\n",
              "    <tr>\n",
              "      <th>4</th>\n",
              "      <td>Greater white-fronted goose</td>\n",
              "      <td>Anser albifrons</td>\n",
              "      <td>Ducks/Geese/Waterfowl</td>\n",
              "      <td>Anseriformes</td>\n",
              "      <td>Anatidae</td>\n",
              "      <td>Anser</td>\n",
              "      <td>LC</td>\n",
              "      <td>64.0</td>\n",
              "      <td>81.0</td>\n",
              "      <td>1930.0</td>\n",
              "      <td>3310.0</td>\n",
              "      <td>130.0</td>\n",
              "      <td>165.0</td>\n",
              "    </tr>\n",
              "  </tbody>\n",
              "</table>\n",
              "</div>\n",
              "    <div class=\"colab-df-buttons\">\n",
              "\n",
              "  <div class=\"colab-df-container\">\n",
              "    <button class=\"colab-df-convert\" onclick=\"convertToInteractive('df-320c1749-b0c7-419a-95a7-059c492852ab')\"\n",
              "            title=\"Convert this dataframe to an interactive table.\"\n",
              "            style=\"display:none;\">\n",
              "\n",
              "  <svg xmlns=\"http://www.w3.org/2000/svg\" height=\"24px\" viewBox=\"0 -960 960 960\">\n",
              "    <path d=\"M120-120v-720h720v720H120Zm60-500h600v-160H180v160Zm220 220h160v-160H400v160Zm0 220h160v-160H400v160ZM180-400h160v-160H180v160Zm440 0h160v-160H620v160ZM180-180h160v-160H180v160Zm440 0h160v-160H620v160Z\"/>\n",
              "  </svg>\n",
              "    </button>\n",
              "\n",
              "  <style>\n",
              "    .colab-df-container {\n",
              "      display:flex;\n",
              "      gap: 12px;\n",
              "    }\n",
              "\n",
              "    .colab-df-convert {\n",
              "      background-color: #E8F0FE;\n",
              "      border: none;\n",
              "      border-radius: 50%;\n",
              "      cursor: pointer;\n",
              "      display: none;\n",
              "      fill: #1967D2;\n",
              "      height: 32px;\n",
              "      padding: 0 0 0 0;\n",
              "      width: 32px;\n",
              "    }\n",
              "\n",
              "    .colab-df-convert:hover {\n",
              "      background-color: #E2EBFA;\n",
              "      box-shadow: 0px 1px 2px rgba(60, 64, 67, 0.3), 0px 1px 3px 1px rgba(60, 64, 67, 0.15);\n",
              "      fill: #174EA6;\n",
              "    }\n",
              "\n",
              "    .colab-df-buttons div {\n",
              "      margin-bottom: 4px;\n",
              "    }\n",
              "\n",
              "    [theme=dark] .colab-df-convert {\n",
              "      background-color: #3B4455;\n",
              "      fill: #D2E3FC;\n",
              "    }\n",
              "\n",
              "    [theme=dark] .colab-df-convert:hover {\n",
              "      background-color: #434B5C;\n",
              "      box-shadow: 0px 1px 3px 1px rgba(0, 0, 0, 0.15);\n",
              "      filter: drop-shadow(0px 1px 2px rgba(0, 0, 0, 0.3));\n",
              "      fill: #FFFFFF;\n",
              "    }\n",
              "  </style>\n",
              "\n",
              "    <script>\n",
              "      const buttonEl =\n",
              "        document.querySelector('#df-320c1749-b0c7-419a-95a7-059c492852ab button.colab-df-convert');\n",
              "      buttonEl.style.display =\n",
              "        google.colab.kernel.accessAllowed ? 'block' : 'none';\n",
              "\n",
              "      async function convertToInteractive(key) {\n",
              "        const element = document.querySelector('#df-320c1749-b0c7-419a-95a7-059c492852ab');\n",
              "        const dataTable =\n",
              "          await google.colab.kernel.invokeFunction('convertToInteractive',\n",
              "                                                    [key], {});\n",
              "        if (!dataTable) return;\n",
              "\n",
              "        const docLinkHtml = 'Like what you see? Visit the ' +\n",
              "          '<a target=\"_blank\" href=https://colab.research.google.com/notebooks/data_table.ipynb>data table notebook</a>'\n",
              "          + ' to learn more about interactive tables.';\n",
              "        element.innerHTML = '';\n",
              "        dataTable['output_type'] = 'display_data';\n",
              "        await google.colab.output.renderOutput(dataTable, element);\n",
              "        const docLink = document.createElement('div');\n",
              "        docLink.innerHTML = docLinkHtml;\n",
              "        element.appendChild(docLink);\n",
              "      }\n",
              "    </script>\n",
              "  </div>\n",
              "\n",
              "\n",
              "<div id=\"df-867e5323-9b8b-4072-9984-48088d036473\">\n",
              "  <button class=\"colab-df-quickchart\" onclick=\"quickchart('df-867e5323-9b8b-4072-9984-48088d036473')\"\n",
              "            title=\"Suggest charts\"\n",
              "            style=\"display:none;\">\n",
              "\n",
              "<svg xmlns=\"http://www.w3.org/2000/svg\" height=\"24px\"viewBox=\"0 0 24 24\"\n",
              "     width=\"24px\">\n",
              "    <g>\n",
              "        <path d=\"M19 3H5c-1.1 0-2 .9-2 2v14c0 1.1.9 2 2 2h14c1.1 0 2-.9 2-2V5c0-1.1-.9-2-2-2zM9 17H7v-7h2v7zm4 0h-2V7h2v10zm4 0h-2v-4h2v4z\"/>\n",
              "    </g>\n",
              "</svg>\n",
              "  </button>\n",
              "\n",
              "<style>\n",
              "  .colab-df-quickchart {\n",
              "      --bg-color: #E8F0FE;\n",
              "      --fill-color: #1967D2;\n",
              "      --hover-bg-color: #E2EBFA;\n",
              "      --hover-fill-color: #174EA6;\n",
              "      --disabled-fill-color: #AAA;\n",
              "      --disabled-bg-color: #DDD;\n",
              "  }\n",
              "\n",
              "  [theme=dark] .colab-df-quickchart {\n",
              "      --bg-color: #3B4455;\n",
              "      --fill-color: #D2E3FC;\n",
              "      --hover-bg-color: #434B5C;\n",
              "      --hover-fill-color: #FFFFFF;\n",
              "      --disabled-bg-color: #3B4455;\n",
              "      --disabled-fill-color: #666;\n",
              "  }\n",
              "\n",
              "  .colab-df-quickchart {\n",
              "    background-color: var(--bg-color);\n",
              "    border: none;\n",
              "    border-radius: 50%;\n",
              "    cursor: pointer;\n",
              "    display: none;\n",
              "    fill: var(--fill-color);\n",
              "    height: 32px;\n",
              "    padding: 0;\n",
              "    width: 32px;\n",
              "  }\n",
              "\n",
              "  .colab-df-quickchart:hover {\n",
              "    background-color: var(--hover-bg-color);\n",
              "    box-shadow: 0 1px 2px rgba(60, 64, 67, 0.3), 0 1px 3px 1px rgba(60, 64, 67, 0.15);\n",
              "    fill: var(--button-hover-fill-color);\n",
              "  }\n",
              "\n",
              "  .colab-df-quickchart-complete:disabled,\n",
              "  .colab-df-quickchart-complete:disabled:hover {\n",
              "    background-color: var(--disabled-bg-color);\n",
              "    fill: var(--disabled-fill-color);\n",
              "    box-shadow: none;\n",
              "  }\n",
              "\n",
              "  .colab-df-spinner {\n",
              "    border: 2px solid var(--fill-color);\n",
              "    border-color: transparent;\n",
              "    border-bottom-color: var(--fill-color);\n",
              "    animation:\n",
              "      spin 1s steps(1) infinite;\n",
              "  }\n",
              "\n",
              "  @keyframes spin {\n",
              "    0% {\n",
              "      border-color: transparent;\n",
              "      border-bottom-color: var(--fill-color);\n",
              "      border-left-color: var(--fill-color);\n",
              "    }\n",
              "    20% {\n",
              "      border-color: transparent;\n",
              "      border-left-color: var(--fill-color);\n",
              "      border-top-color: var(--fill-color);\n",
              "    }\n",
              "    30% {\n",
              "      border-color: transparent;\n",
              "      border-left-color: var(--fill-color);\n",
              "      border-top-color: var(--fill-color);\n",
              "      border-right-color: var(--fill-color);\n",
              "    }\n",
              "    40% {\n",
              "      border-color: transparent;\n",
              "      border-right-color: var(--fill-color);\n",
              "      border-top-color: var(--fill-color);\n",
              "    }\n",
              "    60% {\n",
              "      border-color: transparent;\n",
              "      border-right-color: var(--fill-color);\n",
              "    }\n",
              "    80% {\n",
              "      border-color: transparent;\n",
              "      border-right-color: var(--fill-color);\n",
              "      border-bottom-color: var(--fill-color);\n",
              "    }\n",
              "    90% {\n",
              "      border-color: transparent;\n",
              "      border-bottom-color: var(--fill-color);\n",
              "    }\n",
              "  }\n",
              "</style>\n",
              "\n",
              "  <script>\n",
              "    async function quickchart(key) {\n",
              "      const quickchartButtonEl =\n",
              "        document.querySelector('#' + key + ' button');\n",
              "      quickchartButtonEl.disabled = true;  // To prevent multiple clicks.\n",
              "      quickchartButtonEl.classList.add('colab-df-spinner');\n",
              "      try {\n",
              "        const charts = await google.colab.kernel.invokeFunction(\n",
              "            'suggestCharts', [key], {});\n",
              "      } catch (error) {\n",
              "        console.error('Error during call to suggestCharts:', error);\n",
              "      }\n",
              "      quickchartButtonEl.classList.remove('colab-df-spinner');\n",
              "      quickchartButtonEl.classList.add('colab-df-quickchart-complete');\n",
              "    }\n",
              "    (() => {\n",
              "      let quickchartButtonEl =\n",
              "        document.querySelector('#df-867e5323-9b8b-4072-9984-48088d036473 button');\n",
              "      quickchartButtonEl.style.display =\n",
              "        google.colab.kernel.accessAllowed ? 'block' : 'none';\n",
              "    })();\n",
              "  </script>\n",
              "</div>\n",
              "\n",
              "    </div>\n",
              "  </div>\n"
            ],
            "application/vnd.google.colaboratory.intrinsic+json": {
              "type": "dataframe",
              "variable_name": "data",
              "summary": "{\n  \"name\": \"data\",\n  \"rows\": 443,\n  \"fields\": [\n    {\n      \"column\": \"Name\",\n      \"properties\": {\n        \"dtype\": \"string\",\n        \"num_unique_values\": 443,\n        \"samples\": [\n          \"Evening grosbeak\",\n          \"Red phalarope\",\n          \"Common nighthawk\"\n        ],\n        \"semantic_type\": \"\",\n        \"description\": \"\"\n      }\n    },\n    {\n      \"column\": \"ScientificName\",\n      \"properties\": {\n        \"dtype\": \"string\",\n        \"num_unique_values\": 443,\n        \"samples\": [\n          \"Coccothraustes vespertinus\",\n          \"Phalaropus fulicarius\",\n          \"Chordeiles minor\"\n        ],\n        \"semantic_type\": \"\",\n        \"description\": \"\"\n      }\n    },\n    {\n      \"column\": \"Category\",\n      \"properties\": {\n        \"dtype\": \"category\",\n        \"num_unique_values\": 60,\n        \"samples\": [\n          \"Ducks/Geese/Waterfowl\",\n          \"Cuckoos\",\n          \"Crows/Jays/Magpies\"\n        ],\n        \"semantic_type\": \"\",\n        \"description\": \"\"\n      }\n    },\n    {\n      \"column\": \"Order\",\n      \"properties\": {\n        \"dtype\": \"category\",\n        \"num_unique_values\": 21,\n        \"samples\": [\n          \"Anseriformes\",\n          \"Coraciiformes\",\n          \"Accipitriformes\"\n        ],\n        \"semantic_type\": \"\",\n        \"description\": \"\"\n      }\n    },\n    {\n      \"column\": \"Family\",\n      \"properties\": {\n        \"dtype\": \"category\",\n        \"num_unique_values\": 59,\n        \"samples\": [\n          \"Anatidae\",\n          \"Cuculidae\",\n          \"Laniidae\"\n        ],\n        \"semantic_type\": \"\",\n        \"description\": \"\"\n      }\n    },\n    {\n      \"column\": \"Genus\",\n      \"properties\": {\n        \"dtype\": \"string\",\n        \"num_unique_values\": 238,\n        \"samples\": [\n          \"Accipiter\",\n          \"Lophodytes\",\n          \"Icteria\"\n        ],\n        \"semantic_type\": \"\",\n        \"description\": \"\"\n      }\n    },\n    {\n      \"column\": \"ConservationStatus\",\n      \"properties\": {\n        \"dtype\": \"category\",\n        \"num_unique_values\": 6,\n        \"samples\": [\n          \"LC\",\n          \"NT\",\n          \"CR\"\n        ],\n        \"semantic_type\": \"\",\n        \"description\": \"\"\n      }\n    },\n    {\n      \"column\": \"MinLength\",\n      \"properties\": {\n        \"dtype\": \"number\",\n        \"std\": 20.319887301841803,\n        \"min\": 7.0,\n        \"max\": 138.0,\n        \"num_unique_values\": 96,\n        \"samples\": [\n          13.5,\n          22.85,\n          71.0\n        ],\n        \"semantic_type\": \"\",\n        \"description\": \"\"\n      }\n    },\n    {\n      \"column\": \"MaxLength\",\n      \"properties\": {\n        \"dtype\": \"number\",\n        \"std\": 27.539772105607106,\n        \"min\": 8.9,\n        \"max\": 180.0,\n        \"num_unique_values\": 113,\n        \"samples\": [\n          90.0,\n          81.0,\n          38.0\n        ],\n        \"semantic_type\": \"\",\n        \"description\": \"\"\n      }\n    },\n    {\n      \"column\": \"MinBodyMass\",\n      \"properties\": {\n        \"dtype\": \"number\",\n        \"std\": 779.6801056140979,\n        \"min\": 2.0,\n        \"max\": 9200.0,\n        \"num_unique_values\": 233,\n        \"samples\": [\n          72.0,\n          20.2,\n          11.2\n        ],\n        \"semantic_type\": \"\",\n        \"description\": \"\"\n      }\n    },\n    {\n      \"column\": \"MaxBodyMass\",\n      \"properties\": {\n        \"dtype\": \"number\",\n        \"std\": 1655.682563732182,\n        \"min\": 3.0,\n        \"max\": 14300.0,\n        \"num_unique_values\": 271,\n        \"samples\": [\n          2128.0,\n          90.9,\n          112.0\n        ],\n        \"semantic_type\": \"\",\n        \"description\": \"\"\n      }\n    },\n    {\n      \"column\": \"MinWingspan\",\n      \"properties\": {\n        \"dtype\": \"number\",\n        \"std\": 104.60236923754529,\n        \"min\": 8.0,\n        \"max\": 1800.0,\n        \"num_unique_values\": 137,\n        \"samples\": [\n          1800.0,\n          89.0,\n          58.0\n        ],\n        \"semantic_type\": \"\",\n        \"description\": \"\"\n      }\n    },\n    {\n      \"column\": \"MaxWingspan\",\n      \"properties\": {\n        \"dtype\": \"number\",\n        \"std\": 126.67317726663828,\n        \"min\": 10.6,\n        \"max\": 2300.0,\n        \"num_unique_values\": 157,\n        \"samples\": [\n          42.0,\n          74.0,\n          15.0\n        ],\n        \"semantic_type\": \"\",\n        \"description\": \"\"\n      }\n    }\n  ]\n}"
            }
          },
          "metadata": {},
          "execution_count": 3
        }
      ]
    },
    {
      "cell_type": "code",
      "execution_count": 5,
      "id": "18bae9fc",
      "metadata": {
        "colab": {
          "base_uri": "https://localhost:8080/"
        },
        "id": "18bae9fc",
        "outputId": "51b52fd4-bbd1-4b87-8b59-da11ed7f2b15"
      },
      "outputs": [
        {
          "output_type": "stream",
          "name": "stdout",
          "text": [
            "                           Name          ScientificName  \\\n",
            "0  Black-bellied whistling-duck  Dendrocygna autumnalis   \n",
            "1        Fulvous whistling-duck     Dendrocygna bicolor   \n",
            "2                    Snow goose      Anser caerulescens   \n",
            "3                  Ross's goose            Anser rossii   \n",
            "4   Greater white-fronted goose         Anser albifrons   \n",
            "5                         Brant         Branta bernicla   \n",
            "6                Cackling goose       Branta hutchinsii   \n",
            "7                  Canada goose       Branta canadensis   \n",
            "8                     Mute swan             Cygnus olor   \n",
            "9                Trumpeter swan       Cygnus buccinator   \n",
            "\n",
            "                Category         Order    Family        Genus  \\\n",
            "0  Ducks/Geese/Waterfowl  Anseriformes  Anatidae  Dendrocygna   \n",
            "1  Ducks/Geese/Waterfowl  Anseriformes  Anatidae  Dendrocygna   \n",
            "2  Ducks/Geese/Waterfowl  Anseriformes  Anatidae        Anser   \n",
            "3  Ducks/Geese/Waterfowl  Anseriformes  Anatidae        Anser   \n",
            "4  Ducks/Geese/Waterfowl  Anseriformes  Anatidae        Anser   \n",
            "5  Ducks/Geese/Waterfowl  Anseriformes  Anatidae       Branta   \n",
            "6  Ducks/Geese/Waterfowl  Anseriformes  Anatidae       Branta   \n",
            "7  Ducks/Geese/Waterfowl  Anseriformes  Anatidae       Branta   \n",
            "8  Ducks/Geese/Waterfowl  Anseriformes  Anatidae       Cygnus   \n",
            "9  Ducks/Geese/Waterfowl  Anseriformes  Anatidae       Cygnus   \n",
            "\n",
            "  ConservationStatus  MinLength  MaxLength  MinBodyMass  MaxBodyMass  \\\n",
            "0                 LC       47.0       56.0        652.0       1020.0   \n",
            "1                 LC       45.0       53.0        712.0       1050.0   \n",
            "2                 LC       64.0       79.0       2050.0       4050.0   \n",
            "3                 LC       57.3       64.0       1066.0       1567.0   \n",
            "4                 LC       64.0       81.0       1930.0       3310.0   \n",
            "5                 LC       55.0       66.0        880.0       2200.0   \n",
            "6                 LC       63.0       65.0       1398.0       2380.0   \n",
            "7                 LC       75.0      110.0       2600.0       6500.0   \n",
            "8                 LC      125.0      170.0       9200.0      14300.0   \n",
            "9                 LC      138.0      180.0       7000.0      13600.0   \n",
            "\n",
            "   MinWingspan  MaxWingspan  \n",
            "0         76.0         94.0  \n",
            "1         85.0         93.0  \n",
            "2        135.0        165.0  \n",
            "3        113.0        116.0  \n",
            "4        130.0        165.0  \n",
            "5        206.0        121.0  \n",
            "6        108.0        111.0  \n",
            "7        127.0        185.0  \n",
            "8        200.0        240.0  \n",
            "9        185.0        250.0  \n"
          ]
        }
      ],
      "source": [
        "# Explore 10 instances of the dataset\n",
        "print(data.head(10))"
      ]
    },
    {
      "cell_type": "code",
      "execution_count": 7,
      "id": "8c72642f",
      "metadata": {
        "colab": {
          "base_uri": "https://localhost:8080/"
        },
        "id": "8c72642f",
        "outputId": "60a2b01b-df1f-4fb8-95fc-de42a77a2928"
      },
      "outputs": [
        {
          "output_type": "execute_result",
          "data": {
            "text/plain": [
              "Index(['Name', 'ScientificName', 'Category', 'Order', 'Family', 'Genus',\n",
              "       'ConservationStatus', 'MinLength', 'MaxLength', 'MinBodyMass',\n",
              "       'MaxBodyMass', 'MinWingspan', 'MaxWingspan'],\n",
              "      dtype='object')"
            ]
          },
          "metadata": {},
          "execution_count": 7
        }
      ],
      "source": [
        "#print the columns\n",
        "data.columns"
      ]
    },
    {
      "cell_type": "code",
      "source": [
        "# shape of the dataset\n",
        "data.shape"
      ],
      "metadata": {
        "colab": {
          "base_uri": "https://localhost:8080/"
        },
        "id": "MsREaexKUUks",
        "outputId": "542c68b9-9d5d-478d-c4ea-f1f5ea4efaa8"
      },
      "id": "MsREaexKUUks",
      "execution_count": 8,
      "outputs": [
        {
          "output_type": "execute_result",
          "data": {
            "text/plain": [
              "(443, 13)"
            ]
          },
          "metadata": {},
          "execution_count": 8
        }
      ]
    },
    {
      "cell_type": "code",
      "source": [
        "# print the number of rows\n",
        "data.shape[0]"
      ],
      "metadata": {
        "colab": {
          "base_uri": "https://localhost:8080/"
        },
        "id": "LUleuf_tUZ7w",
        "outputId": "4699c3b4-ddee-49d8-ad0a-3b4f3fc40758"
      },
      "id": "LUleuf_tUZ7w",
      "execution_count": 9,
      "outputs": [
        {
          "output_type": "execute_result",
          "data": {
            "text/plain": [
              "443"
            ]
          },
          "metadata": {},
          "execution_count": 9
        }
      ]
    },
    {
      "cell_type": "code",
      "source": [
        "# print the number of columns\n",
        "data.shape[1]"
      ],
      "metadata": {
        "colab": {
          "base_uri": "https://localhost:8080/"
        },
        "id": "jNco4pJsUgIv",
        "outputId": "d16ae27a-983d-4832-96ab-82c98624390f"
      },
      "id": "jNco4pJsUgIv",
      "execution_count": 10,
      "outputs": [
        {
          "output_type": "execute_result",
          "data": {
            "text/plain": [
              "13"
            ]
          },
          "metadata": {},
          "execution_count": 10
        }
      ]
    },
    {
      "cell_type": "code",
      "source": [
        "# get the information of the dataset\n",
        "data.info()"
      ],
      "metadata": {
        "colab": {
          "base_uri": "https://localhost:8080/"
        },
        "id": "Lgnfkrh4Uq8V",
        "outputId": "2d0fb734-812c-4f73-8b5d-f997e0b45b7b"
      },
      "id": "Lgnfkrh4Uq8V",
      "execution_count": 11,
      "outputs": [
        {
          "output_type": "stream",
          "name": "stdout",
          "text": [
            "<class 'pandas.core.frame.DataFrame'>\n",
            "RangeIndex: 443 entries, 0 to 442\n",
            "Data columns (total 13 columns):\n",
            " #   Column              Non-Null Count  Dtype  \n",
            "---  ------              --------------  -----  \n",
            " 0   Name                443 non-null    object \n",
            " 1   ScientificName      443 non-null    object \n",
            " 2   Category            443 non-null    object \n",
            " 3   Order               443 non-null    object \n",
            " 4   Family              443 non-null    object \n",
            " 5   Genus               443 non-null    object \n",
            " 6   ConservationStatus  443 non-null    object \n",
            " 7   MinLength           443 non-null    float64\n",
            " 8   MaxLength           443 non-null    float64\n",
            " 9   MinBodyMass         443 non-null    float64\n",
            " 10  MaxBodyMass         443 non-null    float64\n",
            " 11  MinWingspan         443 non-null    float64\n",
            " 12  MaxWingspan         443 non-null    float64\n",
            "dtypes: float64(6), object(7)\n",
            "memory usage: 45.1+ KB\n"
          ]
        }
      ]
    },
    {
      "cell_type": "code",
      "source": [
        "# check for missing value\n",
        "data.isnull().count()"
      ],
      "metadata": {
        "colab": {
          "base_uri": "https://localhost:8080/"
        },
        "id": "qNl96NrbU1mv",
        "outputId": "b586b2e3-cca0-47b6-b540-5e4384ef31bf"
      },
      "id": "qNl96NrbU1mv",
      "execution_count": 13,
      "outputs": [
        {
          "output_type": "execute_result",
          "data": {
            "text/plain": [
              "Name                  443\n",
              "ScientificName        443\n",
              "Category              443\n",
              "Order                 443\n",
              "Family                443\n",
              "Genus                 443\n",
              "ConservationStatus    443\n",
              "MinLength             443\n",
              "MaxLength             443\n",
              "MinBodyMass           443\n",
              "MaxBodyMass           443\n",
              "MinWingspan           443\n",
              "MaxWingspan           443\n",
              "dtype: int64"
            ]
          },
          "metadata": {},
          "execution_count": 13
        }
      ]
    },
    {
      "cell_type": "markdown",
      "source": [
        "# We do not have any missing value. Therefore the dataset is ok."
      ],
      "metadata": {
        "id": "HLUl0OkCWjpa"
      },
      "id": "HLUl0OkCWjpa"
    },
    {
      "cell_type": "code",
      "source": [],
      "metadata": {
        "id": "fVNOkV28WqoE"
      },
      "id": "fVNOkV28WqoE",
      "execution_count": null,
      "outputs": []
    }
  ],
  "metadata": {
    "kernelspec": {
      "display_name": "Python 3 (ipykernel)",
      "language": "python",
      "name": "python3"
    },
    "language_info": {
      "codemirror_mode": {
        "name": "ipython",
        "version": 3
      },
      "file_extension": ".py",
      "mimetype": "text/x-python",
      "name": "python",
      "nbconvert_exporter": "python",
      "pygments_lexer": "ipython3",
      "version": "3.9.12"
    },
    "colab": {
      "provenance": [],
      "include_colab_link": true
    }
  },
  "nbformat": 4,
  "nbformat_minor": 5
}